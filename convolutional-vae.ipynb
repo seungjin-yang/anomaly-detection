{
  "nbformat": 4,
  "nbformat_minor": 0,
  "metadata": {
    "accelerator": "GPU",
    "colab": {
      "name": "vae.ipynb",
      "provenance": []
    },
    "kernelspec": {
      "display_name": "Python 3",
      "language": "python",
      "name": "python3"
    },
    "language_info": {
      "codemirror_mode": {
        "name": "ipython",
        "version": 3
      },
      "file_extension": ".py",
      "mimetype": "text/x-python",
      "name": "python",
      "nbconvert_exporter": "python",
      "pygments_lexer": "ipython3",
      "version": "3.7.3"
    }
  },
  "cells": [
    {
      "cell_type": "markdown",
      "metadata": {
        "colab_type": "text",
        "id": "_Dv9edrjCF5_"
      },
      "source": [
        "# Anomaly  Detection using  Convolutional VAE"
      ]
    },
    {
      "cell_type": "markdown",
      "metadata": {
        "colab_type": "text",
        "id": "HuL2wOA99pTM"
      },
      "source": [
        "[Go to Google Colab](https://colab.research.google.com/github/seungjin-yang/anomaly-detection/blob/master/convolutional-vae.ipynb)"
      ]
    },
    {
      "cell_type": "code",
      "metadata": {
        "colab_type": "code",
        "id": "6apEYsmRB-CB",
        "colab": {}
      },
      "source": [
        "%matplotlib inline\n",
        "from urllib.error import HTTPError\n",
        "\n",
        "import matplotlib.pyplot as plt\n",
        "import numpy as np\n",
        "\n",
        "import torch\n",
        "import torch.nn as nn\n",
        "import torch.nn.functional as F\n",
        "import torch.optim as optim\n",
        "from torch.utils.data import DataLoader\n",
        "\n",
        "import torchvision\n",
        "from torchvision.datasets import MNIST\n",
        "from torchvision.datasets import FashionMNIST\n",
        "from torchvision.datasets import EMNIST\n",
        "from torchvision import transforms\n",
        "from torchvision.utils import make_grid\n",
        "from torchvision.utils import save_image"
      ],
      "execution_count": 0,
      "outputs": []
    },
    {
      "cell_type": "code",
      "metadata": {
        "colab_type": "code",
        "id": "N3zMpL2nB-CL",
        "outputId": "88e68efc-23be-49c0-e2ac-d5cae0842534",
        "colab": {
          "base_uri": "https://localhost:8080/",
          "height": 52
        }
      },
      "source": [
        "print(torch.__version__)\n",
        "print(torchvision.__version__)"
      ],
      "execution_count": 2,
      "outputs": [
        {
          "output_type": "stream",
          "text": [
            "1.2.0\n",
            "0.4.0\n"
          ],
          "name": "stdout"
        }
      ]
    },
    {
      "cell_type": "markdown",
      "metadata": {
        "colab_type": "text",
        "id": "h087QDESB-CT"
      },
      "source": [
        "### Dataset"
      ]
    },
    {
      "cell_type": "code",
      "metadata": {
        "colab_type": "code",
        "id": "8WmpyxhYB-CW",
        "colab": {}
      },
      "source": [
        "transform = transforms.Compose([\n",
        "    transforms.ToTensor()\n",
        "])"
      ],
      "execution_count": 0,
      "outputs": []
    },
    {
      "cell_type": "code",
      "metadata": {
        "colab_type": "code",
        "id": "9JEMSpWvB-Cb",
        "colab": {}
      },
      "source": [
        "datasets_root = '/tmp/torchvision/'"
      ],
      "execution_count": 0,
      "outputs": []
    },
    {
      "cell_type": "code",
      "metadata": {
        "colab_type": "code",
        "collapsed": true,
        "id": "gSqUklvxB-Cg",
        "outputId": "0d3a2238-3b08-4fc7-f249-198c8a0fd3c8",
        "colab": {
          "base_uri": "https://localhost:8080/",
          "height": 283
        }
      },
      "source": [
        "mnist_train, mnist_valid = torch.utils.data.random_split(\n",
        "    dataset=MNIST(datasets_root, train=True, download=True, transform=transform),\n",
        "    lengths=(50000, 10000))\n",
        "\n",
        "mnist_test = MNIST(datasets_root, train=False, transform=transform)"
      ],
      "execution_count": 7,
      "outputs": [
        {
          "output_type": "stream",
          "text": [
            "\r0it [00:00, ?it/s]"
          ],
          "name": "stderr"
        },
        {
          "output_type": "stream",
          "text": [
            "Downloading http://yann.lecun.com/exdb/mnist/train-images-idx3-ubyte.gz to /tmp/torchvision/MNIST/raw/train-images-idx3-ubyte.gz\n"
          ],
          "name": "stdout"
        },
        {
          "output_type": "stream",
          "text": [
            "9920512it [00:01, 9685959.72it/s]                            \n"
          ],
          "name": "stderr"
        },
        {
          "output_type": "stream",
          "text": [
            "Extracting /tmp/torchvision/MNIST/raw/train-images-idx3-ubyte.gz to /tmp/torchvision/MNIST/raw\n"
          ],
          "name": "stdout"
        },
        {
          "output_type": "stream",
          "text": [
            "  0%|          | 0/28881 [00:00<?, ?it/s]"
          ],
          "name": "stderr"
        },
        {
          "output_type": "stream",
          "text": [
            "Downloading http://yann.lecun.com/exdb/mnist/train-labels-idx1-ubyte.gz to /tmp/torchvision/MNIST/raw/train-labels-idx1-ubyte.gz\n"
          ],
          "name": "stdout"
        },
        {
          "output_type": "stream",
          "text": [
            "32768it [00:00, 135584.30it/s]           \n",
            "  0%|          | 0/1648877 [00:00<?, ?it/s]"
          ],
          "name": "stderr"
        },
        {
          "output_type": "stream",
          "text": [
            "Extracting /tmp/torchvision/MNIST/raw/train-labels-idx1-ubyte.gz to /tmp/torchvision/MNIST/raw\n",
            "Downloading http://yann.lecun.com/exdb/mnist/t10k-images-idx3-ubyte.gz to /tmp/torchvision/MNIST/raw/t10k-images-idx3-ubyte.gz\n"
          ],
          "name": "stdout"
        },
        {
          "output_type": "stream",
          "text": [
            "1654784it [00:00, 2400687.05it/s]                           \n",
            "0it [00:00, ?it/s]"
          ],
          "name": "stderr"
        },
        {
          "output_type": "stream",
          "text": [
            "Extracting /tmp/torchvision/MNIST/raw/t10k-images-idx3-ubyte.gz to /tmp/torchvision/MNIST/raw\n",
            "Downloading http://yann.lecun.com/exdb/mnist/t10k-labels-idx1-ubyte.gz to /tmp/torchvision/MNIST/raw/t10k-labels-idx1-ubyte.gz\n"
          ],
          "name": "stdout"
        },
        {
          "output_type": "stream",
          "text": [
            "8192it [00:00, 49538.48it/s]            "
          ],
          "name": "stderr"
        },
        {
          "output_type": "stream",
          "text": [
            "Extracting /tmp/torchvision/MNIST/raw/t10k-labels-idx1-ubyte.gz to /tmp/torchvision/MNIST/raw\n",
            "Processing...\n",
            "Done!\n"
          ],
          "name": "stdout"
        },
        {
          "output_type": "stream",
          "text": [
            "\n"
          ],
          "name": "stderr"
        }
      ]
    },
    {
      "cell_type": "code",
      "metadata": {
        "colab_type": "code",
        "id": "rp3RY76NXpXv",
        "outputId": "98f829ab-ba16-4300-8533-075df603d16a",
        "colab": {
          "base_uri": "https://localhost:8080/",
          "height": 70
        }
      },
      "source": [
        "print(f'MNIST Training: {len(mnist_train)}')\n",
        "print(f'MNIST Validation: {len(mnist_valid)}')\n",
        "print(f'MNIST Test: {len(mnist_test)}')"
      ],
      "execution_count": 10,
      "outputs": [
        {
          "output_type": "stream",
          "text": [
            "MNIST Training: 50000\n",
            "MNIST Validation: 10000\n",
            "MNIST Test: 10000\n"
          ],
          "name": "stdout"
        }
      ]
    },
    {
      "cell_type": "code",
      "metadata": {
        "colab_type": "code",
        "id": "n0Au8oCaB-DA",
        "colab": {}
      },
      "source": [
        "def show_mnist(dataset, start=0, end=64, is_flat=True):\n",
        "    if isinstance(dataset, torch.utils.data.Dataset):\n",
        "        images = [dataset[idx][0] for idx in range(start, end)]\n",
        "\n",
        "        if is_flat:\n",
        "            images = [each.view(1, 28, 28) for each in images]\n",
        "    elif isinstance(dataset, torch.Tensor):\n",
        "        images =  dataset\n",
        "        if is_flat:\n",
        "            images = [each.view(1, 28, 28) for each in images]\n",
        "        \n",
        "        \n",
        "    images = make_grid(images, padding=5)\n",
        "    images = images.numpy()\n",
        "    images = np.transpose(images, (1, 2, 0))\n",
        "    \n",
        "    fig, ax = plt.subplots(figsize=(8, 8))\n",
        "    ax.imshow(images, interpolation='nearest')\n",
        "    ax.tick_params(axis='both', bottom=False, left=False, labelbottom=False, labelleft=False)"
      ],
      "execution_count": 0,
      "outputs": []
    },
    {
      "cell_type": "code",
      "metadata": {
        "colab_type": "code",
        "id": "1HlgwWsAB-DD",
        "outputId": "04275e4f-9fb5-4657-a48c-a1f76cce3967",
        "colab": {
          "base_uri": "https://localhost:8080/",
          "height": 473
        }
      },
      "source": [
        "show_mnist(mnist_test, end=64)"
      ],
      "execution_count": 12,
      "outputs": [
        {
          "output_type": "display_data",
          "data": {
            "image/png": "[encoded data removed]",
            "text/plain": [
              "<Figure size 576x576 with 1 Axes>"
            ]
          },
          "metadata": {
            "tags": []
          }
        }
      ]
    },
    {
      "cell_type": "markdown",
      "metadata": {
        "colab_type": "text",
        "id": "YdKl-wVkB-DR"
      },
      "source": [
        "### DataLoader"
      ]
    },
    {
      "cell_type": "code",
      "metadata": {
        "colab_type": "code",
        "id": "NkKlCSGIB-DT",
        "colab": {}
      },
      "source": [
        "batch_size = 128\n",
        "test_batch_size = 512"
      ],
      "execution_count": 0,
      "outputs": []
    },
    {
      "cell_type": "code",
      "metadata": {
        "colab_type": "code",
        "id": "FQvfw4DXB-DV",
        "colab": {}
      },
      "source": [
        "train_loader = DataLoader(mnist_train, batch_size=batch_size)\n",
        "valid_loader = DataLoader(mnist_valid, batch_size=test_batch_size)\n",
        "test_loader = DataLoader(mnist_test, batch_size=test_batch_size)"
      ],
      "execution_count": 0,
      "outputs": []
    },
    {
      "cell_type": "markdown",
      "metadata": {
        "colab_type": "text",
        "id": "9AIWRjlKB-DZ"
      },
      "source": [
        "# Model"
      ]
    },
    {
      "cell_type": "markdown",
      "metadata": {
        "colab_type": "text",
        "id": "R7QzfV7rB-Db"
      },
      "source": [
        "### Encoder\n",
        "$$\n",
        "\\Large q_{\\phi}(\\mathbf{z}|\\mathbf{x})\n",
        "$$"
      ]
    },
    {
      "cell_type": "code",
      "metadata": {
        "colab_type": "code",
        "id": "DddzSExRB-Dd",
        "colab": {}
      },
      "source": [
        "class Encoder(nn.Module):\n",
        "    '''\n",
        "    (Probabilistic) Encoder\n",
        "    Inference Model\n",
        "    '''\n",
        "    def __init__(self, dim_latent=20):\n",
        "        super(Encoder, self).__init__()\n",
        "        self.conv_1 = nn.Conv2d(in_channels=1, out_channels=32, kernel_size=3, stride=2)\n",
        "        self.conv_2 = nn.Conv2d(in_channels=32, out_channels=64, kernel_size=3, stride=2)\n",
        "        self.linear = nn.Linear(in_features=64, out_features=2*dim_latent)\n",
        "        \n",
        "    def reparameterize(self, mean, log_variance):\n",
        "        # standad deviation\n",
        "        std = torch.exp(0.5 * log_variance)\n",
        "        eps = torch.randn_like(std)\n",
        "        return mean + eps * std\n",
        "    \n",
        "    def forward(self, x):\n",
        "        h = self.conv_1(x)\n",
        "        h = F.relu(h)\n",
        "        h = self.conv_2(h)\n",
        "        h = F.relu(h)\n",
        "        \n",
        "        h = h.mean(dim=(1, 2, 3))\n",
        "        h = self.linear(h)\n",
        "        mean = h[:, self.dim_latent]\n",
        "        log_variance = h[:, self.dim_latent: ]\n",
        "        z = self.reparameterize(mean, log_variance)\n",
        "        return z, mean, log_variance"
      ],
      "execution_count": 0,
      "outputs": []
    },
    {
      "cell_type": "markdown",
      "metadata": {
        "colab_type": "text",
        "id": "ztolcm86B-Dh"
      },
      "source": [
        "### Decoder\n",
        "$$\n",
        "\\Large p_{\\theta}(\\mathbf{x}, \\mathbf{z})\n",
        "$$"
      ]
    },
    {
      "cell_type": "code",
      "metadata": {
        "colab_type": "code",
        "id": "vClxBt9OB-Di",
        "colab": {}
      },
      "source": [
        "class Decoder(nn.Module):\n",
        "    def __init__(self):\n",
        "        super(Decoder, self).__init__()\n",
        "        \n",
        "        self.linear = nn.Linear(in_features=dim_latent, out_features=32*7*7)\n",
        "        self.conv_1 = nn.ConvTranspose2d(\n",
        "            in_features=32, kernel_size=32)\n",
        "    \n",
        "    def forward(self, z):\n",
        "        h3 = F.relu(self.fc3(z))\n",
        "        x_recon = torch.sigmoid(self.fc4(h3))\n",
        "        return x_recon"
      ],
      "execution_count": 0,
      "outputs": []
    },
    {
      "cell_type": "code",
      "metadata": {
        "id": "GaP9_PpJAoX8",
        "colab_type": "code",
        "colab": {}
      },
      "source": [
        "    self.generative_net = tf.keras.Sequential(\n",
        "        [\n",
        "          tf.keras.layers.InputLayer(input_shape=(latent_dim,)),\n",
        "          tf.keras.layers.Dense(units=7*7*32, activation=tf.nn.relu),\n",
        "          tf.keras.layers.Reshape(target_shape=(7, 7, 32)),\n",
        "          tf.keras.layers.Conv2DTranspose(\n",
        "              filters=64,\n",
        "              kernel_size=3,\n",
        "              strides=(2, 2),\n",
        "              padding=\"SAME\",\n",
        "              activation='relu'),\n",
        "          tf.keras.layers.Conv2DTranspose(\n",
        "              filters=32,\n",
        "              kernel_size=3,\n",
        "              strides=(2, 2),\n",
        "              padding=\"SAME\",\n",
        "              activation='relu'),\n",
        "          # No activation\n",
        "          tf.keras.layers.Conv2DTranspose(\n",
        "              filters=1, kernel_size=3, strides=(1, 1), padding=\"SAME\"),\n",
        "        ]\n",
        "    )\n"
      ],
      "execution_count": 0,
      "outputs": []
    },
    {
      "cell_type": "markdown",
      "metadata": {
        "id": "NojFf1SrAooO",
        "colab_type": "text"
      },
      "source": [
        "### VAE"
      ]
    },
    {
      "cell_type": "code",
      "metadata": {
        "colab_type": "code",
        "id": "y_YsqqfFB-Dm",
        "colab": {}
      },
      "source": [
        "class VAE(nn.Module):\n",
        "    def __init__(self):\n",
        "        super(VAE, self).__init__()\n",
        "        self.encoder = Encoder()\n",
        "        self.decoder = Decoder()\n",
        "\n",
        "    def forward(self, x):\n",
        "        z, mean, log_variance = self.encoder(x)\n",
        "        x_recon = self.decoder(z)\n",
        "        return x_recon, mean, log_variance"
      ],
      "execution_count": 0,
      "outputs": []
    },
    {
      "cell_type": "markdown",
      "metadata": {
        "colab_type": "text",
        "id": "HA3aeG5xB-Dp"
      },
      "source": [
        "### Loss function"
      ]
    },
    {
      "cell_type": "code",
      "metadata": {
        "colab_type": "code",
        "id": "GrNCSy5xB-Dq",
        "colab": {}
      },
      "source": [
        "# Reconstruction + KL divergence losses summed over all elements and batch\n",
        "# see Appendix B from VAE paper:\n",
        "# Kingma and Welling. Auto-Encoding Variational Bayes. ICLR, 2014\n",
        "# https://arxiv.org/abs/1312.6114\n",
        "# 0.5 * sum(1 + log(sigma^2) - mu^2 - sigma^2)\n",
        "def loss_function(x_recon, x, mean, log_variance):\n",
        "    reco_error = F.binary_cross_entropy(x_recon, x, reduction='sum')\n",
        "    kl_divergence = -0.5 * torch.sum(1 + log_variance - mean.pow(2) - log_variance.exp())\n",
        "    return reco_error + kl_divergence"
      ],
      "execution_count": 0,
      "outputs": []
    },
    {
      "cell_type": "code",
      "metadata": {
        "colab_type": "code",
        "id": "_pqkgshwEjnO",
        "colab": {}
      },
      "source": [
        "def reconstruction_error(x_recon, x, reduction='sum'):\n",
        "    return F.binary_cross_entropy(x_recon, x, reduction=reduction)"
      ],
      "execution_count": 0,
      "outputs": []
    },
    {
      "cell_type": "code",
      "metadata": {
        "colab_type": "code",
        "id": "ISjilx3-Ekul",
        "colab": {}
      },
      "source": [
        "def kl_divergence(mean, log_variance):\n",
        "    return -0.5 * torch.sum(1 + log_variance - mean.pow(2) - log_variance.exp())"
      ],
      "execution_count": 0,
      "outputs": []
    },
    {
      "cell_type": "code",
      "metadata": {
        "colab_type": "code",
        "id": "KJw-VkUaB-D2",
        "colab": {}
      },
      "source": [
        "def train(model, data_loader, optimizer, device):\n",
        "    model.train()\n",
        "       \n",
        "    #log_interval = int(len(data_loader) / 10)\n",
        "    \n",
        "    for batch_idx, (data, _) in enumerate(data_loader):\n",
        "        data = data.to(device)\n",
        "        \n",
        "        optimizer.zero_grad()\n",
        "        \n",
        "        recon_batch, mean, log_variance = model(data)\n",
        "        \n",
        "        reco_error = reconstruction_error(recon_batch, data)\n",
        "        kld = kl_divergence(mean, log_variance)\n",
        "        \n",
        "\n",
        "        loss = reco_error + kld\n",
        "        \n",
        "        loss.backward()\n",
        "        optimizer.step()\n",
        "        \n",
        "        # if batch_idx % log_interval == 0:\n",
        "            \n",
        "        #     print('Train Epoch: {} [{}/{} ({:.0f}%)]\\tLoss: {:.6f}'.format(\n",
        "        #         epoch, batch_idx * len(data), len(data_loader.dataset),\n",
        "        #        100. * batch_idx / len(data_loader),\n",
        "        #        loss.item() / len(data)))\n",
        "\n",
        "    #average_loss = accumulated_loss / len(data_loader.dataset)\n",
        "    #return average_loss"
      ],
      "execution_count": 0,
      "outputs": []
    },
    {
      "cell_type": "code",
      "metadata": {
        "colab_type": "code",
        "id": "kxK0qKViB-D5",
        "colab": {}
      },
      "source": [
        "def test(model, data_loader, device):\n",
        "    model.eval()\n",
        "    \n",
        "    # accumulated loss\n",
        "    accum_reco_error = 0\n",
        "    accum_kld = 0\n",
        "    \n",
        "    with torch.no_grad():\n",
        "        for batch_idx, (data, _) in enumerate(data_loader):\n",
        "            data = data.to(device)\n",
        "            recon_batch, mean, log_variance = model(data)\n",
        "            \n",
        "            reco_error = reconstruction_error(recon_batch, data)\n",
        "            kld = kl_divergence(mean, log_variance)\n",
        "            \n",
        "            accum_reco_error += reco_error.item()\n",
        "            accum_kld += kld.item()\n",
        "\n",
        "    num_examples = len(data_loader.dataset)\n",
        "    \n",
        "    average_reco_error = accum_reco_error / num_examples\n",
        "    average_kld = accum_kld / num_examples\n",
        "    average_loss = average_reco_error + average_kld\n",
        "    \n",
        "    return average_loss, (average_reco_error, average_kld)"
      ],
      "execution_count": 0,
      "outputs": []
    },
    {
      "cell_type": "code",
      "metadata": {
        "colab_type": "code",
        "id": "0WmuMm9LB-D9",
        "colab": {}
      },
      "source": [
        "device = torch.device('cuda:0')\n",
        "model = VAE().to(device)\n",
        "optimizer = optim.Adam(model.parameters(), lr=1e-3)"
      ],
      "execution_count": 0,
      "outputs": []
    },
    {
      "cell_type": "code",
      "metadata": {
        "colab_type": "code",
        "id": "SCAaKxajB-EA",
        "colab": {}
      },
      "source": [
        "epochs = 100"
      ],
      "execution_count": 0,
      "outputs": []
    },
    {
      "cell_type": "code",
      "metadata": {
        "colab_type": "code",
        "collapsed": true,
        "id": "C8-vdHojB-EC",
        "outputId": "c7eb6b26-538c-443a-add4-6f00dc2aeea7",
        "colab": {
          "base_uri": "https://localhost:8080/",
          "height": 1000
        }
      },
      "source": [
        "for epoch in range(1, epochs + 1):\n",
        "    train(model, train_loader, optimizer, device)\n",
        "    \n",
        "    train_loss, (train_reco_error, train_kld) = test(model, train_loader, device)\n",
        "    valid_loss, (valid_reco_error, valid_kld) = test(model, valid_loader, device)\n",
        "    \n",
        "    print(f'[Epoch: {epoch}/{epochs}] Training Loss: {train_loss:.4f} = Reconstruction Error ({train_reco_error:.4f}) + KL Divergence({train_kld:.4f})')\n",
        "    print(f'[Epoch: {epoch}/{epochs}] Validation Loss: {valid_loss:.4f} = Reconstruction Error ({valid_reco_error:.4f}) + KL Divergence({valid_kld:.4f})')"
      ],
      "execution_count": 0,
      "outputs": [
        {
          "output_type": "display_data",
          "data": {
            "application/vnd.jupyter.widget-view+json": {
              "model_id": "88ed0aa802b34b07b9c3a4803caac793",
              "version_major": 2,
              "version_minor": 0
            },
            "text/plain": [
              "HBox(children=(IntProgress(value=0, max=391), HTML(value='')))"
            ]
          },
          "metadata": {
            "tags": []
          }
        },
        {
          "output_type": "stream",
          "text": [
            "\n",
            "[Epoch: 1/100] Training Loss: 133.3794 = Reconstruction Error (113.0598) + KL Divergence(20.3196)\n",
            "[Epoch: 1/100] Validation Loss: 133.2920 = Reconstruction Error (112.9897) + KL Divergence(20.3023)\n"
          ],
          "name": "stdout"
        },
        {
          "output_type": "display_data",
          "data": {
            "application/vnd.jupyter.widget-view+json": {
              "model_id": "188cbe6670a749b4b4001cfda950d1b1",
              "version_major": 2,
              "version_minor": 0
            },
            "text/plain": [
              "HBox(children=(IntProgress(value=0, max=391), HTML(value='')))"
            ]
          },
          "metadata": {
            "tags": []
          }
        },
        {
          "output_type": "stream",
          "text": [
            "\n",
            "[Epoch: 2/100] Training Loss: 119.5477 = Reconstruction Error (96.3801) + KL Divergence(23.1676)\n",
            "[Epoch: 2/100] Validation Loss: 119.6059 = Reconstruction Error (96.4563) + KL Divergence(23.1496)\n"
          ],
          "name": "stdout"
        },
        {
          "output_type": "display_data",
          "data": {
            "application/vnd.jupyter.widget-view+json": {
              "model_id": "5b37f10bb265401f84736698c28ef9cf",
              "version_major": 2,
              "version_minor": 0
            },
            "text/plain": [
              "HBox(children=(IntProgress(value=0, max=391), HTML(value='')))"
            ]
          },
          "metadata": {
            "tags": []
          }
        },
        {
          "output_type": "stream",
          "text": [
            "\n",
            "[Epoch: 3/100] Training Loss: 114.3634 = Reconstruction Error (90.2740) + KL Divergence(24.0894)\n",
            "[Epoch: 3/100] Validation Loss: 114.5231 = Reconstruction Error (90.4548) + KL Divergence(24.0683)\n"
          ],
          "name": "stdout"
        },
        {
          "output_type": "display_data",
          "data": {
            "application/vnd.jupyter.widget-view+json": {
              "model_id": "71e25990d4b04d05af814e5b5635944f",
              "version_major": 2,
              "version_minor": 0
            },
            "text/plain": [
              "HBox(children=(IntProgress(value=0, max=391), HTML(value='')))"
            ]
          },
          "metadata": {
            "tags": []
          }
        },
        {
          "output_type": "stream",
          "text": [
            "\n",
            "[Epoch: 4/100] Training Loss: 111.9635 = Reconstruction Error (86.9302) + KL Divergence(25.0334)\n",
            "[Epoch: 4/100] Validation Loss: 112.2173 = Reconstruction Error (87.1900) + KL Divergence(25.0273)\n"
          ],
          "name": "stdout"
        },
        {
          "output_type": "display_data",
          "data": {
            "application/vnd.jupyter.widget-view+json": {
              "model_id": "24b7a96692ec4ec4ac56e485fe702e06",
              "version_major": 2,
              "version_minor": 0
            },
            "text/plain": [
              "HBox(children=(IntProgress(value=0, max=391), HTML(value='')))"
            ]
          },
          "metadata": {
            "tags": []
          }
        },
        {
          "output_type": "stream",
          "text": [
            "\n",
            "[Epoch: 5/100] Training Loss: 110.2480 = Reconstruction Error (85.1209) + KL Divergence(25.1271)\n",
            "[Epoch: 5/100] Validation Loss: 110.7163 = Reconstruction Error (85.5971) + KL Divergence(25.1192)\n"
          ],
          "name": "stdout"
        },
        {
          "output_type": "display_data",
          "data": {
            "application/vnd.jupyter.widget-view+json": {
              "model_id": "550dd22bc4994c9db2297f508094f934",
              "version_major": 2,
              "version_minor": 0
            },
            "text/plain": [
              "HBox(children=(IntProgress(value=0, max=391), HTML(value='')))"
            ]
          },
          "metadata": {
            "tags": []
          }
        },
        {
          "output_type": "stream",
          "text": [
            "\n",
            "[Epoch: 6/100] Training Loss: 109.0253 = Reconstruction Error (83.9221) + KL Divergence(25.1032)\n",
            "[Epoch: 6/100] Validation Loss: 109.4523 = Reconstruction Error (84.3587) + KL Divergence(25.0936)\n"
          ],
          "name": "stdout"
        },
        {
          "output_type": "display_data",
          "data": {
            "application/vnd.jupyter.widget-view+json": {
              "model_id": "6e9abc64625141fc8adf6eddd0de831c",
              "version_major": 2,
              "version_minor": 0
            },
            "text/plain": [
              "HBox(children=(IntProgress(value=0, max=391), HTML(value='')))"
            ]
          },
          "metadata": {
            "tags": []
          }
        },
        {
          "output_type": "stream",
          "text": [
            "\n",
            "[Epoch: 7/100] Training Loss: 108.2922 = Reconstruction Error (83.1782) + KL Divergence(25.1141)\n",
            "[Epoch: 7/100] Validation Loss: 108.6330 = Reconstruction Error (83.5311) + KL Divergence(25.1019)\n"
          ],
          "name": "stdout"
        },
        {
          "output_type": "display_data",
          "data": {
            "application/vnd.jupyter.widget-view+json": {
              "model_id": "79a303a19bfe4ad1867dce9c886d0f2f",
              "version_major": 2,
              "version_minor": 0
            },
            "text/plain": [
              "HBox(children=(IntProgress(value=0, max=391), HTML(value='')))"
            ]
          },
          "metadata": {
            "tags": []
          }
        },
        {
          "output_type": "stream",
          "text": [
            "\n",
            "[Epoch: 8/100] Training Loss: 107.5068 = Reconstruction Error (82.2040) + KL Divergence(25.3028)\n",
            "[Epoch: 8/100] Validation Loss: 107.9486 = Reconstruction Error (82.6690) + KL Divergence(25.2796)\n"
          ],
          "name": "stdout"
        },
        {
          "output_type": "display_data",
          "data": {
            "application/vnd.jupyter.widget-view+json": {
              "model_id": "1bf53ef062d946c68b5a3a5e5b5f9163",
              "version_major": 2,
              "version_minor": 0
            },
            "text/plain": [
              "HBox(children=(IntProgress(value=0, max=391), HTML(value='')))"
            ]
          },
          "metadata": {
            "tags": []
          }
        },
        {
          "output_type": "stream",
          "text": [
            "\n",
            "[Epoch: 9/100] Training Loss: 107.0137 = Reconstruction Error (81.6515) + KL Divergence(25.3622)\n",
            "[Epoch: 9/100] Validation Loss: 107.5923 = Reconstruction Error (82.2545) + KL Divergence(25.3378)\n"
          ],
          "name": "stdout"
        },
        {
          "output_type": "display_data",
          "data": {
            "application/vnd.jupyter.widget-view+json": {
              "model_id": "0ea83567da544c3f9e0028d2f3b61447",
              "version_major": 2,
              "version_minor": 0
            },
            "text/plain": [
              "HBox(children=(IntProgress(value=0, max=391), HTML(value='')))"
            ]
          },
          "metadata": {
            "tags": []
          }
        },
        {
          "output_type": "stream",
          "text": [
            "\n",
            "[Epoch: 10/100] Training Loss: 106.4925 = Reconstruction Error (81.1619) + KL Divergence(25.3306)\n",
            "[Epoch: 10/100] Validation Loss: 107.0630 = Reconstruction Error (81.7515) + KL Divergence(25.3115)\n"
          ],
          "name": "stdout"
        },
        {
          "output_type": "display_data",
          "data": {
            "application/vnd.jupyter.widget-view+json": {
              "model_id": "5cf6d69672d9429d846600b6720cb786",
              "version_major": 2,
              "version_minor": 0
            },
            "text/plain": [
              "HBox(children=(IntProgress(value=0, max=391), HTML(value='')))"
            ]
          },
          "metadata": {
            "tags": []
          }
        },
        {
          "output_type": "stream",
          "text": [
            "\n",
            "[Epoch: 11/100] Training Loss: 106.2559 = Reconstruction Error (81.1711) + KL Divergence(25.0848)\n",
            "[Epoch: 11/100] Validation Loss: 106.8047 = Reconstruction Error (81.7446) + KL Divergence(25.0602)\n"
          ],
          "name": "stdout"
        },
        {
          "output_type": "display_data",
          "data": {
            "application/vnd.jupyter.widget-view+json": {
              "model_id": "490bf6d35bfa4ca4bc1d17fbb94e522a",
              "version_major": 2,
              "version_minor": 0
            },
            "text/plain": [
              "HBox(children=(IntProgress(value=0, max=391), HTML(value='')))"
            ]
          },
          "metadata": {
            "tags": []
          }
        },
        {
          "output_type": "stream",
          "text": [
            "\n",
            "[Epoch: 12/100] Training Loss: 106.0095 = Reconstruction Error (80.9092) + KL Divergence(25.1003)\n",
            "[Epoch: 12/100] Validation Loss: 106.5659 = Reconstruction Error (81.4926) + KL Divergence(25.0732)\n"
          ],
          "name": "stdout"
        },
        {
          "output_type": "display_data",
          "data": {
            "application/vnd.jupyter.widget-view+json": {
              "model_id": "12a6c2a80a41484498f9053ceb0ecbcd",
              "version_major": 2,
              "version_minor": 0
            },
            "text/plain": [
              "HBox(children=(IntProgress(value=0, max=391), HTML(value='')))"
            ]
          },
          "metadata": {
            "tags": []
          }
        },
        {
          "output_type": "stream",
          "text": [
            "\n",
            "[Epoch: 13/100] Training Loss: 106.0773 = Reconstruction Error (80.4964) + KL Divergence(25.5809)\n",
            "[Epoch: 13/100] Validation Loss: 106.7358 = Reconstruction Error (81.1881) + KL Divergence(25.5477)\n"
          ],
          "name": "stdout"
        },
        {
          "output_type": "display_data",
          "data": {
            "application/vnd.jupyter.widget-view+json": {
              "model_id": "faf0c28841734264b9147313113461a0",
              "version_major": 2,
              "version_minor": 0
            },
            "text/plain": [
              "HBox(children=(IntProgress(value=0, max=391), HTML(value='')))"
            ]
          },
          "metadata": {
            "tags": []
          }
        },
        {
          "output_type": "stream",
          "text": [
            "\n",
            "[Epoch: 14/100] Training Loss: 105.3058 = Reconstruction Error (80.1231) + KL Divergence(25.1827)\n",
            "[Epoch: 14/100] Validation Loss: 106.0069 = Reconstruction Error (80.8478) + KL Divergence(25.1591)\n"
          ],
          "name": "stdout"
        },
        {
          "output_type": "display_data",
          "data": {
            "application/vnd.jupyter.widget-view+json": {
              "model_id": "19f0abc3de2d44b09c60da28f4a50759",
              "version_major": 2,
              "version_minor": 0
            },
            "text/plain": [
              "HBox(children=(IntProgress(value=0, max=391), HTML(value='')))"
            ]
          },
          "metadata": {
            "tags": []
          }
        },
        {
          "output_type": "stream",
          "text": [
            "\n",
            "[Epoch: 15/100] Training Loss: 105.0953 = Reconstruction Error (80.0241) + KL Divergence(25.0713)\n",
            "[Epoch: 15/100] Validation Loss: 105.8860 = Reconstruction Error (80.8444) + KL Divergence(25.0415)\n"
          ],
          "name": "stdout"
        },
        {
          "output_type": "display_data",
          "data": {
            "application/vnd.jupyter.widget-view+json": {
              "model_id": "fa5d2dccb271479e8b16bc89ac7995a2",
              "version_major": 2,
              "version_minor": 0
            },
            "text/plain": [
              "HBox(children=(IntProgress(value=0, max=391), HTML(value='')))"
            ]
          },
          "metadata": {
            "tags": []
          }
        },
        {
          "output_type": "stream",
          "text": [
            "\n",
            "[Epoch: 16/100] Training Loss: 104.9631 = Reconstruction Error (79.2734) + KL Divergence(25.6898)\n",
            "[Epoch: 16/100] Validation Loss: 105.7944 = Reconstruction Error (80.1226) + KL Divergence(25.6719)\n"
          ],
          "name": "stdout"
        },
        {
          "output_type": "display_data",
          "data": {
            "application/vnd.jupyter.widget-view+json": {
              "model_id": "6c22421da53f43fea29a3a6d3310efd4",
              "version_major": 2,
              "version_minor": 0
            },
            "text/plain": [
              "HBox(children=(IntProgress(value=0, max=391), HTML(value='')))"
            ]
          },
          "metadata": {
            "tags": []
          }
        },
        {
          "output_type": "stream",
          "text": [
            "\n",
            "[Epoch: 17/100] Training Loss: 104.8746 = Reconstruction Error (79.3662) + KL Divergence(25.5084)\n",
            "[Epoch: 17/100] Validation Loss: 105.6013 = Reconstruction Error (80.1200) + KL Divergence(25.4813)\n"
          ],
          "name": "stdout"
        },
        {
          "output_type": "display_data",
          "data": {
            "application/vnd.jupyter.widget-view+json": {
              "model_id": "e7fe0ff858174ca0a1e318bf93bc76b9",
              "version_major": 2,
              "version_minor": 0
            },
            "text/plain": [
              "HBox(children=(IntProgress(value=0, max=391), HTML(value='')))"
            ]
          },
          "metadata": {
            "tags": []
          }
        },
        {
          "output_type": "stream",
          "text": [
            "\n",
            "[Epoch: 18/100] Training Loss: 104.5467 = Reconstruction Error (79.6552) + KL Divergence(24.8915)\n",
            "[Epoch: 18/100] Validation Loss: 105.3605 = Reconstruction Error (80.5061) + KL Divergence(24.8544)\n"
          ],
          "name": "stdout"
        },
        {
          "output_type": "display_data",
          "data": {
            "application/vnd.jupyter.widget-view+json": {
              "model_id": "5edb204cbe7242c6b355140724c633a0",
              "version_major": 2,
              "version_minor": 0
            },
            "text/plain": [
              "HBox(children=(IntProgress(value=0, max=391), HTML(value='')))"
            ]
          },
          "metadata": {
            "tags": []
          }
        },
        {
          "output_type": "stream",
          "text": [
            "\n",
            "[Epoch: 19/100] Training Loss: 104.3637 = Reconstruction Error (78.9400) + KL Divergence(25.4237)\n",
            "[Epoch: 19/100] Validation Loss: 105.2098 = Reconstruction Error (79.8139) + KL Divergence(25.3959)\n"
          ],
          "name": "stdout"
        },
        {
          "output_type": "display_data",
          "data": {
            "application/vnd.jupyter.widget-view+json": {
              "model_id": "5313a5868fc942a18639cc8dd073078b",
              "version_major": 2,
              "version_minor": 0
            },
            "text/plain": [
              "HBox(children=(IntProgress(value=0, max=391), HTML(value='')))"
            ]
          },
          "metadata": {
            "tags": []
          }
        },
        {
          "output_type": "stream",
          "text": [
            "\n",
            "[Epoch: 20/100] Training Loss: 104.2951 = Reconstruction Error (79.0057) + KL Divergence(25.2894)\n",
            "[Epoch: 20/100] Validation Loss: 105.1334 = Reconstruction Error (79.8646) + KL Divergence(25.2688)\n"
          ],
          "name": "stdout"
        },
        {
          "output_type": "display_data",
          "data": {
            "application/vnd.jupyter.widget-view+json": {
              "model_id": "140403d453b24449ab003970b3e94382",
              "version_major": 2,
              "version_minor": 0
            },
            "text/plain": [
              "HBox(children=(IntProgress(value=0, max=391), HTML(value='')))"
            ]
          },
          "metadata": {
            "tags": []
          }
        },
        {
          "output_type": "stream",
          "text": [
            "\n",
            "[Epoch: 21/100] Training Loss: 104.1283 = Reconstruction Error (78.9405) + KL Divergence(25.1879)\n",
            "[Epoch: 21/100] Validation Loss: 104.9792 = Reconstruction Error (79.8032) + KL Divergence(25.1761)\n"
          ],
          "name": "stdout"
        },
        {
          "output_type": "display_data",
          "data": {
            "application/vnd.jupyter.widget-view+json": {
              "model_id": "700e6dff38284d9b8633baa20ca01311",
              "version_major": 2,
              "version_minor": 0
            },
            "text/plain": [
              "HBox(children=(IntProgress(value=0, max=391), HTML(value='')))"
            ]
          },
          "metadata": {
            "tags": []
          }
        },
        {
          "output_type": "stream",
          "text": [
            "\n",
            "[Epoch: 22/100] Training Loss: 103.9177 = Reconstruction Error (78.9382) + KL Divergence(24.9794)\n",
            "[Epoch: 22/100] Validation Loss: 104.8564 = Reconstruction Error (79.9035) + KL Divergence(24.9529)\n"
          ],
          "name": "stdout"
        },
        {
          "output_type": "display_data",
          "data": {
            "application/vnd.jupyter.widget-view+json": {
              "model_id": "80a32842bc964d4b8f8caa14f256984a",
              "version_major": 2,
              "version_minor": 0
            },
            "text/plain": [
              "HBox(children=(IntProgress(value=0, max=391), HTML(value='')))"
            ]
          },
          "metadata": {
            "tags": []
          }
        },
        {
          "output_type": "stream",
          "text": [
            "\n",
            "[Epoch: 23/100] Training Loss: 103.9061 = Reconstruction Error (78.4061) + KL Divergence(25.5000)\n",
            "[Epoch: 23/100] Validation Loss: 104.8029 = Reconstruction Error (79.3410) + KL Divergence(25.4619)\n"
          ],
          "name": "stdout"
        },
        {
          "output_type": "display_data",
          "data": {
            "application/vnd.jupyter.widget-view+json": {
              "model_id": "d56d6e09712f40f59c1145997a701954",
              "version_major": 2,
              "version_minor": 0
            },
            "text/plain": [
              "HBox(children=(IntProgress(value=0, max=391), HTML(value='')))"
            ]
          },
          "metadata": {
            "tags": []
          }
        },
        {
          "output_type": "stream",
          "text": [
            "\n",
            "[Epoch: 24/100] Training Loss: 103.8016 = Reconstruction Error (78.9087) + KL Divergence(24.8929)\n",
            "[Epoch: 24/100] Validation Loss: 104.6948 = Reconstruction Error (79.8302) + KL Divergence(24.8646)\n"
          ],
          "name": "stdout"
        },
        {
          "output_type": "display_data",
          "data": {
            "application/vnd.jupyter.widget-view+json": {
              "model_id": "f9088342ff974e60b7f10651ad35ad78",
              "version_major": 2,
              "version_minor": 0
            },
            "text/plain": [
              "HBox(children=(IntProgress(value=0, max=391), HTML(value='')))"
            ]
          },
          "metadata": {
            "tags": []
          }
        },
        {
          "output_type": "stream",
          "text": [
            "\n",
            "[Epoch: 25/100] Training Loss: 103.7243 = Reconstruction Error (78.0868) + KL Divergence(25.6374)\n",
            "[Epoch: 25/100] Validation Loss: 104.6224 = Reconstruction Error (79.0129) + KL Divergence(25.6095)\n"
          ],
          "name": "stdout"
        },
        {
          "output_type": "display_data",
          "data": {
            "application/vnd.jupyter.widget-view+json": {
              "model_id": "af45a3a85760450d9412cbc6e04f50a9",
              "version_major": 2,
              "version_minor": 0
            },
            "text/plain": [
              "HBox(children=(IntProgress(value=0, max=391), HTML(value='')))"
            ]
          },
          "metadata": {
            "tags": []
          }
        },
        {
          "output_type": "stream",
          "text": [
            "\n",
            "[Epoch: 26/100] Training Loss: 103.4909 = Reconstruction Error (78.0028) + KL Divergence(25.4881)\n",
            "[Epoch: 26/100] Validation Loss: 104.4112 = Reconstruction Error (78.9393) + KL Divergence(25.4719)\n"
          ],
          "name": "stdout"
        },
        {
          "output_type": "display_data",
          "data": {
            "application/vnd.jupyter.widget-view+json": {
              "model_id": "321bc2321e474748bb2add4a71ecbe3a",
              "version_major": 2,
              "version_minor": 0
            },
            "text/plain": [
              "HBox(children=(IntProgress(value=0, max=391), HTML(value='')))"
            ]
          },
          "metadata": {
            "tags": []
          }
        },
        {
          "output_type": "stream",
          "text": [
            "\n",
            "[Epoch: 27/100] Training Loss: 103.5727 = Reconstruction Error (78.2883) + KL Divergence(25.2845)\n",
            "[Epoch: 27/100] Validation Loss: 104.6535 = Reconstruction Error (79.3947) + KL Divergence(25.2588)\n"
          ],
          "name": "stdout"
        },
        {
          "output_type": "display_data",
          "data": {
            "application/vnd.jupyter.widget-view+json": {
              "model_id": "282deea16a1944529d800cadc9ff2d2f",
              "version_major": 2,
              "version_minor": 0
            },
            "text/plain": [
              "HBox(children=(IntProgress(value=0, max=391), HTML(value='')))"
            ]
          },
          "metadata": {
            "tags": []
          }
        },
        {
          "output_type": "stream",
          "text": [
            "\n",
            "[Epoch: 28/100] Training Loss: 103.4055 = Reconstruction Error (78.3247) + KL Divergence(25.0808)\n",
            "[Epoch: 28/100] Validation Loss: 104.4083 = Reconstruction Error (79.3398) + KL Divergence(25.0685)\n"
          ],
          "name": "stdout"
        },
        {
          "output_type": "display_data",
          "data": {
            "application/vnd.jupyter.widget-view+json": {
              "model_id": "d20b9e0bad5a482f901bb2dcfc1ac877",
              "version_major": 2,
              "version_minor": 0
            },
            "text/plain": [
              "HBox(children=(IntProgress(value=0, max=391), HTML(value='')))"
            ]
          },
          "metadata": {
            "tags": []
          }
        },
        {
          "output_type": "stream",
          "text": [
            "\n",
            "[Epoch: 29/100] Training Loss: 103.3118 = Reconstruction Error (77.3898) + KL Divergence(25.9220)\n",
            "[Epoch: 29/100] Validation Loss: 104.2600 = Reconstruction Error (78.3573) + KL Divergence(25.9027)\n"
          ],
          "name": "stdout"
        },
        {
          "output_type": "display_data",
          "data": {
            "application/vnd.jupyter.widget-view+json": {
              "model_id": "cc5a74819ac842718c016512bd833328",
              "version_major": 2,
              "version_minor": 0
            },
            "text/plain": [
              "HBox(children=(IntProgress(value=0, max=391), HTML(value='')))"
            ]
          },
          "metadata": {
            "tags": []
          }
        },
        {
          "output_type": "stream",
          "text": [
            "\n",
            "[Epoch: 30/100] Training Loss: 103.1705 = Reconstruction Error (77.2659) + KL Divergence(25.9046)\n",
            "[Epoch: 30/100] Validation Loss: 104.1838 = Reconstruction Error (78.3089) + KL Divergence(25.8749)\n"
          ],
          "name": "stdout"
        },
        {
          "output_type": "display_data",
          "data": {
            "application/vnd.jupyter.widget-view+json": {
              "model_id": "9b7c872f3ccf48a485cc2d2fd0c300cc",
              "version_major": 2,
              "version_minor": 0
            },
            "text/plain": [
              "HBox(children=(IntProgress(value=0, max=391), HTML(value='')))"
            ]
          },
          "metadata": {
            "tags": []
          }
        },
        {
          "output_type": "stream",
          "text": [
            "\n",
            "[Epoch: 31/100] Training Loss: 103.1377 = Reconstruction Error (77.6467) + KL Divergence(25.4910)\n",
            "[Epoch: 31/100] Validation Loss: 104.0852 = Reconstruction Error (78.6231) + KL Divergence(25.4620)\n"
          ],
          "name": "stdout"
        },
        {
          "output_type": "display_data",
          "data": {
            "application/vnd.jupyter.widget-view+json": {
              "model_id": "edd4fba5be8e4f259de01aec75a3644d",
              "version_major": 2,
              "version_minor": 0
            },
            "text/plain": [
              "HBox(children=(IntProgress(value=0, max=391), HTML(value='')))"
            ]
          },
          "metadata": {
            "tags": []
          }
        },
        {
          "output_type": "stream",
          "text": [
            "\n",
            "[Epoch: 32/100] Training Loss: 103.0415 = Reconstruction Error (78.0842) + KL Divergence(24.9573)\n",
            "[Epoch: 32/100] Validation Loss: 104.0203 = Reconstruction Error (79.0848) + KL Divergence(24.9355)\n"
          ],
          "name": "stdout"
        },
        {
          "output_type": "display_data",
          "data": {
            "application/vnd.jupyter.widget-view+json": {
              "model_id": "1c93f7a15c744737bac45e1aa7e3de90",
              "version_major": 2,
              "version_minor": 0
            },
            "text/plain": [
              "HBox(children=(IntProgress(value=0, max=391), HTML(value='')))"
            ]
          },
          "metadata": {
            "tags": []
          }
        },
        {
          "output_type": "stream",
          "text": [
            "\n",
            "[Epoch: 33/100] Training Loss: 103.0620 = Reconstruction Error (77.4963) + KL Divergence(25.5657)\n",
            "[Epoch: 33/100] Validation Loss: 104.0718 = Reconstruction Error (78.5289) + KL Divergence(25.5429)\n"
          ],
          "name": "stdout"
        },
        {
          "output_type": "display_data",
          "data": {
            "application/vnd.jupyter.widget-view+json": {
              "model_id": "41bb8b4fdb3e49c2a28596f3345f455b",
              "version_major": 2,
              "version_minor": 0
            },
            "text/plain": [
              "HBox(children=(IntProgress(value=0, max=391), HTML(value='')))"
            ]
          },
          "metadata": {
            "tags": []
          }
        },
        {
          "output_type": "stream",
          "text": [
            "\n",
            "[Epoch: 34/100] Training Loss: 103.0115 = Reconstruction Error (77.6632) + KL Divergence(25.3483)\n",
            "[Epoch: 34/100] Validation Loss: 104.1012 = Reconstruction Error (78.7847) + KL Divergence(25.3165)\n"
          ],
          "name": "stdout"
        },
        {
          "output_type": "display_data",
          "data": {
            "application/vnd.jupyter.widget-view+json": {
              "model_id": "f9abb9bae6134e67ade88727c9c3888b",
              "version_major": 2,
              "version_minor": 0
            },
            "text/plain": [
              "HBox(children=(IntProgress(value=0, max=391), HTML(value='')))"
            ]
          },
          "metadata": {
            "tags": []
          }
        },
        {
          "output_type": "stream",
          "text": [
            "\n",
            "[Epoch: 35/100] Training Loss: 102.7384 = Reconstruction Error (77.1815) + KL Divergence(25.5569)\n",
            "[Epoch: 35/100] Validation Loss: 103.8504 = Reconstruction Error (78.3247) + KL Divergence(25.5257)\n"
          ],
          "name": "stdout"
        },
        {
          "output_type": "display_data",
          "data": {
            "application/vnd.jupyter.widget-view+json": {
              "model_id": "ba98669a51db4183b22c99453b9715f3",
              "version_major": 2,
              "version_minor": 0
            },
            "text/plain": [
              "HBox(children=(IntProgress(value=0, max=391), HTML(value='')))"
            ]
          },
          "metadata": {
            "tags": []
          }
        },
        {
          "output_type": "stream",
          "text": [
            "\n",
            "[Epoch: 36/100] Training Loss: 102.8050 = Reconstruction Error (77.1905) + KL Divergence(25.6145)\n",
            "[Epoch: 36/100] Validation Loss: 103.9794 = Reconstruction Error (78.3953) + KL Divergence(25.5841)\n"
          ],
          "name": "stdout"
        },
        {
          "output_type": "display_data",
          "data": {
            "application/vnd.jupyter.widget-view+json": {
              "model_id": "78bba1468fe448d9953a98fde047713d",
              "version_major": 2,
              "version_minor": 0
            },
            "text/plain": [
              "HBox(children=(IntProgress(value=0, max=391), HTML(value='')))"
            ]
          },
          "metadata": {
            "tags": []
          }
        },
        {
          "output_type": "stream",
          "text": [
            "\n",
            "[Epoch: 37/100] Training Loss: 102.5967 = Reconstruction Error (77.4855) + KL Divergence(25.1112)\n",
            "[Epoch: 37/100] Validation Loss: 103.7136 = Reconstruction Error (78.6225) + KL Divergence(25.0911)\n"
          ],
          "name": "stdout"
        },
        {
          "output_type": "display_data",
          "data": {
            "application/vnd.jupyter.widget-view+json": {
              "model_id": "68e9f105b01b4b4fa41e0c8432da66e4",
              "version_major": 2,
              "version_minor": 0
            },
            "text/plain": [
              "HBox(children=(IntProgress(value=0, max=391), HTML(value='')))"
            ]
          },
          "metadata": {
            "tags": []
          }
        },
        {
          "output_type": "stream",
          "text": [
            "\n",
            "[Epoch: 38/100] Training Loss: 102.5998 = Reconstruction Error (77.2362) + KL Divergence(25.3636)\n",
            "[Epoch: 38/100] Validation Loss: 103.7259 = Reconstruction Error (78.3943) + KL Divergence(25.3316)\n"
          ],
          "name": "stdout"
        },
        {
          "output_type": "display_data",
          "data": {
            "application/vnd.jupyter.widget-view+json": {
              "model_id": "23165dc10f514d7f9180e2a2f2a94b12",
              "version_major": 2,
              "version_minor": 0
            },
            "text/plain": [
              "HBox(children=(IntProgress(value=0, max=391), HTML(value='')))"
            ]
          },
          "metadata": {
            "tags": []
          }
        },
        {
          "output_type": "stream",
          "text": [
            "\n",
            "[Epoch: 39/100] Training Loss: 102.6995 = Reconstruction Error (77.6344) + KL Divergence(25.0651)\n",
            "[Epoch: 39/100] Validation Loss: 103.7280 = Reconstruction Error (78.6955) + KL Divergence(25.0325)\n"
          ],
          "name": "stdout"
        },
        {
          "output_type": "display_data",
          "data": {
            "application/vnd.jupyter.widget-view+json": {
              "model_id": "f7086bcd4b9b422580402599996cbdc9",
              "version_major": 2,
              "version_minor": 0
            },
            "text/plain": [
              "HBox(children=(IntProgress(value=0, max=391), HTML(value='')))"
            ]
          },
          "metadata": {
            "tags": []
          }
        },
        {
          "output_type": "stream",
          "text": [
            "\n",
            "[Epoch: 40/100] Training Loss: 102.5827 = Reconstruction Error (76.3506) + KL Divergence(26.2321)\n",
            "[Epoch: 40/100] Validation Loss: 103.7346 = Reconstruction Error (77.5243) + KL Divergence(26.2104)\n"
          ],
          "name": "stdout"
        },
        {
          "output_type": "display_data",
          "data": {
            "application/vnd.jupyter.widget-view+json": {
              "model_id": "3d32cbdcd1014e0bbfd6aabc374e0283",
              "version_major": 2,
              "version_minor": 0
            },
            "text/plain": [
              "HBox(children=(IntProgress(value=0, max=391), HTML(value='')))"
            ]
          },
          "metadata": {
            "tags": []
          }
        },
        {
          "output_type": "stream",
          "text": [
            "\n",
            "[Epoch: 41/100] Training Loss: 102.5160 = Reconstruction Error (76.8357) + KL Divergence(25.6802)\n",
            "[Epoch: 41/100] Validation Loss: 103.7013 = Reconstruction Error (78.0512) + KL Divergence(25.6501)\n"
          ],
          "name": "stdout"
        },
        {
          "output_type": "display_data",
          "data": {
            "application/vnd.jupyter.widget-view+json": {
              "model_id": "8a871d6222f344f6b8abd66a05493b64",
              "version_major": 2,
              "version_minor": 0
            },
            "text/plain": [
              "HBox(children=(IntProgress(value=0, max=391), HTML(value='')))"
            ]
          },
          "metadata": {
            "tags": []
          }
        },
        {
          "output_type": "stream",
          "text": [
            "\n",
            "[Epoch: 42/100] Training Loss: 102.4995 = Reconstruction Error (77.2092) + KL Divergence(25.2903)\n",
            "[Epoch: 42/100] Validation Loss: 103.7003 = Reconstruction Error (78.4367) + KL Divergence(25.2637)\n"
          ],
          "name": "stdout"
        },
        {
          "output_type": "display_data",
          "data": {
            "application/vnd.jupyter.widget-view+json": {
              "model_id": "51ecf40268c04c38aca400c44947f6d1",
              "version_major": 2,
              "version_minor": 0
            },
            "text/plain": [
              "HBox(children=(IntProgress(value=0, max=391), HTML(value='')))"
            ]
          },
          "metadata": {
            "tags": []
          }
        },
        {
          "output_type": "stream",
          "text": [
            "\n",
            "[Epoch: 43/100] Training Loss: 102.6672 = Reconstruction Error (76.9742) + KL Divergence(25.6930)\n",
            "[Epoch: 43/100] Validation Loss: 103.8408 = Reconstruction Error (78.1836) + KL Divergence(25.6572)\n"
          ],
          "name": "stdout"
        },
        {
          "output_type": "display_data",
          "data": {
            "application/vnd.jupyter.widget-view+json": {
              "model_id": "0dbd4313281e499788cacc4e193a014d",
              "version_major": 2,
              "version_minor": 0
            },
            "text/plain": [
              "HBox(children=(IntProgress(value=0, max=391), HTML(value='')))"
            ]
          },
          "metadata": {
            "tags": []
          }
        },
        {
          "output_type": "stream",
          "text": [
            "\n",
            "[Epoch: 44/100] Training Loss: 102.4487 = Reconstruction Error (76.3295) + KL Divergence(26.1192)\n",
            "[Epoch: 44/100] Validation Loss: 103.6132 = Reconstruction Error (77.5267) + KL Divergence(26.0865)\n"
          ],
          "name": "stdout"
        },
        {
          "output_type": "display_data",
          "data": {
            "application/vnd.jupyter.widget-view+json": {
              "model_id": "952e7de9aff14367b00789fbd5483bf3",
              "version_major": 2,
              "version_minor": 0
            },
            "text/plain": [
              "HBox(children=(IntProgress(value=0, max=391), HTML(value='')))"
            ]
          },
          "metadata": {
            "tags": []
          }
        },
        {
          "output_type": "stream",
          "text": [
            "\n",
            "[Epoch: 45/100] Training Loss: 102.3942 = Reconstruction Error (77.5479) + KL Divergence(24.8463)\n",
            "[Epoch: 45/100] Validation Loss: 103.5691 = Reconstruction Error (78.7501) + KL Divergence(24.8190)\n"
          ],
          "name": "stdout"
        },
        {
          "output_type": "display_data",
          "data": {
            "application/vnd.jupyter.widget-view+json": {
              "model_id": "2dddd57cc7b6466ab4967bf7debe0abd",
              "version_major": 2,
              "version_minor": 0
            },
            "text/plain": [
              "HBox(children=(IntProgress(value=0, max=391), HTML(value='')))"
            ]
          },
          "metadata": {
            "tags": []
          }
        },
        {
          "output_type": "stream",
          "text": [
            "\n",
            "[Epoch: 46/100] Training Loss: 102.1356 = Reconstruction Error (76.9193) + KL Divergence(25.2162)\n",
            "[Epoch: 46/100] Validation Loss: 103.3350 = Reconstruction Error (78.1428) + KL Divergence(25.1922)\n"
          ],
          "name": "stdout"
        },
        {
          "output_type": "display_data",
          "data": {
            "application/vnd.jupyter.widget-view+json": {
              "model_id": "7ff4fc1ea24346adae7c29cbbece791c",
              "version_major": 2,
              "version_minor": 0
            },
            "text/plain": [
              "HBox(children=(IntProgress(value=0, max=391), HTML(value='')))"
            ]
          },
          "metadata": {
            "tags": []
          }
        },
        {
          "output_type": "stream",
          "text": [
            "\n",
            "[Epoch: 47/100] Training Loss: 102.2481 = Reconstruction Error (76.8332) + KL Divergence(25.4148)\n",
            "[Epoch: 47/100] Validation Loss: 103.4325 = Reconstruction Error (78.0420) + KL Divergence(25.3905)\n"
          ],
          "name": "stdout"
        },
        {
          "output_type": "display_data",
          "data": {
            "application/vnd.jupyter.widget-view+json": {
              "model_id": "691f30ddd4ae4e25a4f5b5ded7daee11",
              "version_major": 2,
              "version_minor": 0
            },
            "text/plain": [
              "HBox(children=(IntProgress(value=0, max=391), HTML(value='')))"
            ]
          },
          "metadata": {
            "tags": []
          }
        },
        {
          "output_type": "stream",
          "text": [
            "\n",
            "[Epoch: 48/100] Training Loss: 102.1504 = Reconstruction Error (76.9855) + KL Divergence(25.1650)\n",
            "[Epoch: 48/100] Validation Loss: 103.3389 = Reconstruction Error (78.2005) + KL Divergence(25.1384)\n"
          ],
          "name": "stdout"
        },
        {
          "output_type": "display_data",
          "data": {
            "application/vnd.jupyter.widget-view+json": {
              "model_id": "1a8b2467f9df499aa65f846a15cf1efa",
              "version_major": 2,
              "version_minor": 0
            },
            "text/plain": [
              "HBox(children=(IntProgress(value=0, max=391), HTML(value='')))"
            ]
          },
          "metadata": {
            "tags": []
          }
        },
        {
          "output_type": "stream",
          "text": [
            "\n",
            "[Epoch: 49/100] Training Loss: 102.0591 = Reconstruction Error (75.9764) + KL Divergence(26.0827)\n",
            "[Epoch: 49/100] Validation Loss: 103.2611 = Reconstruction Error (77.1983) + KL Divergence(26.0628)\n"
          ],
          "name": "stdout"
        },
        {
          "output_type": "display_data",
          "data": {
            "application/vnd.jupyter.widget-view+json": {
              "model_id": "15fc932a662049a5932d1e6bfa7786f6",
              "version_major": 2,
              "version_minor": 0
            },
            "text/plain": [
              "HBox(children=(IntProgress(value=0, max=391), HTML(value='')))"
            ]
          },
          "metadata": {
            "tags": []
          }
        },
        {
          "output_type": "stream",
          "text": [
            "\n",
            "[Epoch: 50/100] Training Loss: 102.1012 = Reconstruction Error (76.4015) + KL Divergence(25.6998)\n",
            "[Epoch: 50/100] Validation Loss: 103.2508 = Reconstruction Error (77.5874) + KL Divergence(25.6634)\n"
          ],
          "name": "stdout"
        },
        {
          "output_type": "display_data",
          "data": {
            "application/vnd.jupyter.widget-view+json": {
              "model_id": "dca29dfb9d9941edbda1fc1310593361",
              "version_major": 2,
              "version_minor": 0
            },
            "text/plain": [
              "HBox(children=(IntProgress(value=0, max=391), HTML(value='')))"
            ]
          },
          "metadata": {
            "tags": []
          }
        },
        {
          "output_type": "stream",
          "text": [
            "\n",
            "[Epoch: 51/100] Training Loss: 102.0451 = Reconstruction Error (76.8749) + KL Divergence(25.1701)\n",
            "[Epoch: 51/100] Validation Loss: 103.2048 = Reconstruction Error (78.0611) + KL Divergence(25.1437)\n"
          ],
          "name": "stdout"
        },
        {
          "output_type": "display_data",
          "data": {
            "application/vnd.jupyter.widget-view+json": {
              "model_id": "6423d464362c4ad39e642442f1cc2497",
              "version_major": 2,
              "version_minor": 0
            },
            "text/plain": [
              "HBox(children=(IntProgress(value=0, max=391), HTML(value='')))"
            ]
          },
          "metadata": {
            "tags": []
          }
        },
        {
          "output_type": "stream",
          "text": [
            "\n",
            "[Epoch: 52/100] Training Loss: 101.9286 = Reconstruction Error (76.4027) + KL Divergence(25.5258)\n",
            "[Epoch: 52/100] Validation Loss: 103.2421 = Reconstruction Error (77.7452) + KL Divergence(25.4970)\n"
          ],
          "name": "stdout"
        },
        {
          "output_type": "display_data",
          "data": {
            "application/vnd.jupyter.widget-view+json": {
              "model_id": "9b75068d4aa0418bb137d97103798c8d",
              "version_major": 2,
              "version_minor": 0
            },
            "text/plain": [
              "HBox(children=(IntProgress(value=0, max=391), HTML(value='')))"
            ]
          },
          "metadata": {
            "tags": []
          }
        },
        {
          "output_type": "stream",
          "text": [
            "\n",
            "[Epoch: 53/100] Training Loss: 101.8432 = Reconstruction Error (76.5245) + KL Divergence(25.3187)\n",
            "[Epoch: 53/100] Validation Loss: 103.1917 = Reconstruction Error (77.8933) + KL Divergence(25.2985)\n"
          ],
          "name": "stdout"
        },
        {
          "output_type": "display_data",
          "data": {
            "application/vnd.jupyter.widget-view+json": {
              "model_id": "8d1682fb538e421f812cf47233bf26fc",
              "version_major": 2,
              "version_minor": 0
            },
            "text/plain": [
              "HBox(children=(IntProgress(value=0, max=391), HTML(value='')))"
            ]
          },
          "metadata": {
            "tags": []
          }
        },
        {
          "output_type": "stream",
          "text": [
            "\n",
            "[Epoch: 54/100] Training Loss: 102.0054 = Reconstruction Error (76.9142) + KL Divergence(25.0912)\n",
            "[Epoch: 54/100] Validation Loss: 103.2149 = Reconstruction Error (78.1454) + KL Divergence(25.0696)\n"
          ],
          "name": "stdout"
        },
        {
          "output_type": "display_data",
          "data": {
            "application/vnd.jupyter.widget-view+json": {
              "model_id": "b421921664bd40c3a2dc885be727941b",
              "version_major": 2,
              "version_minor": 0
            },
            "text/plain": [
              "HBox(children=(IntProgress(value=0, max=391), HTML(value='')))"
            ]
          },
          "metadata": {
            "tags": []
          }
        },
        {
          "output_type": "stream",
          "text": [
            "\n",
            "[Epoch: 55/100] Training Loss: 101.9946 = Reconstruction Error (76.4023) + KL Divergence(25.5923)\n",
            "[Epoch: 55/100] Validation Loss: 103.2723 = Reconstruction Error (77.7078) + KL Divergence(25.5646)\n"
          ],
          "name": "stdout"
        },
        {
          "output_type": "display_data",
          "data": {
            "application/vnd.jupyter.widget-view+json": {
              "model_id": "3bd32ff91fa64e009f5773266b52c229",
              "version_major": 2,
              "version_minor": 0
            },
            "text/plain": [
              "HBox(children=(IntProgress(value=0, max=391), HTML(value='')))"
            ]
          },
          "metadata": {
            "tags": []
          }
        },
        {
          "output_type": "stream",
          "text": [
            "\n",
            "[Epoch: 56/100] Training Loss: 101.7800 = Reconstruction Error (76.2694) + KL Divergence(25.5107)\n",
            "[Epoch: 56/100] Validation Loss: 102.9824 = Reconstruction Error (77.5038) + KL Divergence(25.4787)\n"
          ],
          "name": "stdout"
        },
        {
          "output_type": "display_data",
          "data": {
            "application/vnd.jupyter.widget-view+json": {
              "model_id": "77671aa6d3c04720851e9379e62b1dd1",
              "version_major": 2,
              "version_minor": 0
            },
            "text/plain": [
              "HBox(children=(IntProgress(value=0, max=391), HTML(value='')))"
            ]
          },
          "metadata": {
            "tags": []
          }
        },
        {
          "output_type": "stream",
          "text": [
            "\n",
            "[Epoch: 57/100] Training Loss: 101.7078 = Reconstruction Error (76.0857) + KL Divergence(25.6220)\n",
            "[Epoch: 57/100] Validation Loss: 103.0557 = Reconstruction Error (77.4601) + KL Divergence(25.5956)\n"
          ],
          "name": "stdout"
        },
        {
          "output_type": "display_data",
          "data": {
            "application/vnd.jupyter.widget-view+json": {
              "model_id": "ea2a2e348a0840edb47f6667e6583ed5",
              "version_major": 2,
              "version_minor": 0
            },
            "text/plain": [
              "HBox(children=(IntProgress(value=0, max=391), HTML(value='')))"
            ]
          },
          "metadata": {
            "tags": []
          }
        },
        {
          "output_type": "stream",
          "text": [
            "\n",
            "[Epoch: 58/100] Training Loss: 101.8979 = Reconstruction Error (76.7444) + KL Divergence(25.1535)\n",
            "[Epoch: 58/100] Validation Loss: 103.1821 = Reconstruction Error (78.0504) + KL Divergence(25.1316)\n"
          ],
          "name": "stdout"
        },
        {
          "output_type": "display_data",
          "data": {
            "application/vnd.jupyter.widget-view+json": {
              "model_id": "6767e226b2ba4267b73ebbb88a7dc3c5",
              "version_major": 2,
              "version_minor": 0
            },
            "text/plain": [
              "HBox(children=(IntProgress(value=0, max=391), HTML(value='')))"
            ]
          },
          "metadata": {
            "tags": []
          }
        },
        {
          "output_type": "stream",
          "text": [
            "\n",
            "[Epoch: 59/100] Training Loss: 101.7526 = Reconstruction Error (76.1646) + KL Divergence(25.5880)\n",
            "[Epoch: 59/100] Validation Loss: 103.0869 = Reconstruction Error (77.5208) + KL Divergence(25.5662)\n"
          ],
          "name": "stdout"
        },
        {
          "output_type": "display_data",
          "data": {
            "application/vnd.jupyter.widget-view+json": {
              "model_id": "223d4a1e3bc44363ac154495c86f9904",
              "version_major": 2,
              "version_minor": 0
            },
            "text/plain": [
              "HBox(children=(IntProgress(value=0, max=391), HTML(value='')))"
            ]
          },
          "metadata": {
            "tags": []
          }
        },
        {
          "output_type": "stream",
          "text": [
            "\n",
            "[Epoch: 60/100] Training Loss: 101.6481 = Reconstruction Error (76.3163) + KL Divergence(25.3318)\n",
            "[Epoch: 60/100] Validation Loss: 102.9664 = Reconstruction Error (77.6634) + KL Divergence(25.3030)\n"
          ],
          "name": "stdout"
        },
        {
          "output_type": "display_data",
          "data": {
            "application/vnd.jupyter.widget-view+json": {
              "model_id": "626bdd311a7e4ddf93452e6df1343f3f",
              "version_major": 2,
              "version_minor": 0
            },
            "text/plain": [
              "HBox(children=(IntProgress(value=0, max=391), HTML(value='')))"
            ]
          },
          "metadata": {
            "tags": []
          }
        },
        {
          "output_type": "stream",
          "text": [
            "\n",
            "[Epoch: 61/100] Training Loss: 101.8329 = Reconstruction Error (76.1176) + KL Divergence(25.7152)\n",
            "[Epoch: 61/100] Validation Loss: 103.1814 = Reconstruction Error (77.4887) + KL Divergence(25.6928)\n"
          ],
          "name": "stdout"
        },
        {
          "output_type": "display_data",
          "data": {
            "application/vnd.jupyter.widget-view+json": {
              "model_id": "4c58aa2ee05b46f59bd295aaad015661",
              "version_major": 2,
              "version_minor": 0
            },
            "text/plain": [
              "HBox(children=(IntProgress(value=0, max=391), HTML(value='')))"
            ]
          },
          "metadata": {
            "tags": []
          }
        },
        {
          "output_type": "stream",
          "text": [
            "\n",
            "[Epoch: 62/100] Training Loss: 101.7428 = Reconstruction Error (76.4581) + KL Divergence(25.2847)\n",
            "[Epoch: 62/100] Validation Loss: 103.0886 = Reconstruction Error (77.8220) + KL Divergence(25.2666)\n"
          ],
          "name": "stdout"
        },
        {
          "output_type": "display_data",
          "data": {
            "application/vnd.jupyter.widget-view+json": {
              "model_id": "88ee67741bb541a58dc1cf7763d826a8",
              "version_major": 2,
              "version_minor": 0
            },
            "text/plain": [
              "HBox(children=(IntProgress(value=0, max=391), HTML(value='')))"
            ]
          },
          "metadata": {
            "tags": []
          }
        },
        {
          "output_type": "stream",
          "text": [
            "\n",
            "[Epoch: 63/100] Training Loss: 101.4761 = Reconstruction Error (75.9317) + KL Divergence(25.5444)\n",
            "[Epoch: 63/100] Validation Loss: 102.8640 = Reconstruction Error (77.3450) + KL Divergence(25.5190)\n"
          ],
          "name": "stdout"
        },
        {
          "output_type": "display_data",
          "data": {
            "application/vnd.jupyter.widget-view+json": {
              "model_id": "df9bfce4b3b142259af2693fda5b1e6d",
              "version_major": 2,
              "version_minor": 0
            },
            "text/plain": [
              "HBox(children=(IntProgress(value=0, max=391), HTML(value='')))"
            ]
          },
          "metadata": {
            "tags": []
          }
        },
        {
          "output_type": "stream",
          "text": [
            "\n",
            "[Epoch: 64/100] Training Loss: 101.5899 = Reconstruction Error (76.3732) + KL Divergence(25.2167)\n",
            "[Epoch: 64/100] Validation Loss: 102.8625 = Reconstruction Error (77.6729) + KL Divergence(25.1896)\n"
          ],
          "name": "stdout"
        },
        {
          "output_type": "display_data",
          "data": {
            "application/vnd.jupyter.widget-view+json": {
              "model_id": "d2a04a2c36a54068b3a3aa086d33900c",
              "version_major": 2,
              "version_minor": 0
            },
            "text/plain": [
              "HBox(children=(IntProgress(value=0, max=391), HTML(value='')))"
            ]
          },
          "metadata": {
            "tags": []
          }
        },
        {
          "output_type": "stream",
          "text": [
            "\n",
            "[Epoch: 65/100] Training Loss: 101.5382 = Reconstruction Error (76.2810) + KL Divergence(25.2572)\n",
            "[Epoch: 65/100] Validation Loss: 102.8123 = Reconstruction Error (77.5832) + KL Divergence(25.2291)\n"
          ],
          "name": "stdout"
        },
        {
          "output_type": "display_data",
          "data": {
            "application/vnd.jupyter.widget-view+json": {
              "model_id": "712e6acd5bf649b29e22a494615f9437",
              "version_major": 2,
              "version_minor": 0
            },
            "text/plain": [
              "HBox(children=(IntProgress(value=0, max=391), HTML(value='')))"
            ]
          },
          "metadata": {
            "tags": []
          }
        },
        {
          "output_type": "stream",
          "text": [
            "\n",
            "[Epoch: 66/100] Training Loss: 101.4540 = Reconstruction Error (76.4925) + KL Divergence(24.9615)\n",
            "[Epoch: 66/100] Validation Loss: 102.8214 = Reconstruction Error (77.8847) + KL Divergence(24.9367)\n"
          ],
          "name": "stdout"
        },
        {
          "output_type": "display_data",
          "data": {
            "application/vnd.jupyter.widget-view+json": {
              "model_id": "38259d757fdd450080f3bcd3d7c421f4",
              "version_major": 2,
              "version_minor": 0
            },
            "text/plain": [
              "HBox(children=(IntProgress(value=0, max=391), HTML(value='')))"
            ]
          },
          "metadata": {
            "tags": []
          }
        },
        {
          "output_type": "stream",
          "text": [
            "\n",
            "[Epoch: 67/100] Training Loss: 101.5635 = Reconstruction Error (75.9944) + KL Divergence(25.5691)\n",
            "[Epoch: 67/100] Validation Loss: 102.8698 = Reconstruction Error (77.3299) + KL Divergence(25.5399)\n"
          ],
          "name": "stdout"
        },
        {
          "output_type": "display_data",
          "data": {
            "application/vnd.jupyter.widget-view+json": {
              "model_id": "c392a744467647bf8244ac867c4b1080",
              "version_major": 2,
              "version_minor": 0
            },
            "text/plain": [
              "HBox(children=(IntProgress(value=0, max=391), HTML(value='')))"
            ]
          },
          "metadata": {
            "tags": []
          }
        },
        {
          "output_type": "stream",
          "text": [
            "\n",
            "[Epoch: 68/100] Training Loss: 101.5707 = Reconstruction Error (76.3785) + KL Divergence(25.1922)\n",
            "[Epoch: 68/100] Validation Loss: 102.9355 = Reconstruction Error (77.7711) + KL Divergence(25.1644)\n"
          ],
          "name": "stdout"
        },
        {
          "output_type": "display_data",
          "data": {
            "application/vnd.jupyter.widget-view+json": {
              "model_id": "972c19b7d40b40eab72e7a521104c051",
              "version_major": 2,
              "version_minor": 0
            },
            "text/plain": [
              "HBox(children=(IntProgress(value=0, max=391), HTML(value='')))"
            ]
          },
          "metadata": {
            "tags": []
          }
        },
        {
          "output_type": "stream",
          "text": [
            "\n",
            "[Epoch: 69/100] Training Loss: 101.5552 = Reconstruction Error (76.2415) + KL Divergence(25.3137)\n",
            "[Epoch: 69/100] Validation Loss: 102.8818 = Reconstruction Error (77.5953) + KL Divergence(25.2865)\n"
          ],
          "name": "stdout"
        },
        {
          "output_type": "display_data",
          "data": {
            "application/vnd.jupyter.widget-view+json": {
              "model_id": "36c1e996ace64c7887dd11288456847a",
              "version_major": 2,
              "version_minor": 0
            },
            "text/plain": [
              "HBox(children=(IntProgress(value=0, max=391), HTML(value='')))"
            ]
          },
          "metadata": {
            "tags": []
          }
        },
        {
          "output_type": "stream",
          "text": [
            "\n",
            "[Epoch: 70/100] Training Loss: 101.4205 = Reconstruction Error (76.0036) + KL Divergence(25.4169)\n",
            "[Epoch: 70/100] Validation Loss: 102.6699 = Reconstruction Error (77.2819) + KL Divergence(25.3880)\n"
          ],
          "name": "stdout"
        },
        {
          "output_type": "display_data",
          "data": {
            "application/vnd.jupyter.widget-view+json": {
              "model_id": "bf438e440e3842bc9b0fa760a0f4247e",
              "version_major": 2,
              "version_minor": 0
            },
            "text/plain": [
              "HBox(children=(IntProgress(value=0, max=391), HTML(value='')))"
            ]
          },
          "metadata": {
            "tags": []
          }
        },
        {
          "output_type": "stream",
          "text": [
            "\n",
            "[Epoch: 71/100] Training Loss: 101.3550 = Reconstruction Error (75.9865) + KL Divergence(25.3684)\n",
            "[Epoch: 71/100] Validation Loss: 102.7805 = Reconstruction Error (77.4428) + KL Divergence(25.3377)\n"
          ],
          "name": "stdout"
        },
        {
          "output_type": "display_data",
          "data": {
            "application/vnd.jupyter.widget-view+json": {
              "model_id": "76a1ebbf7e934808ad4b53eae42dadeb",
              "version_major": 2,
              "version_minor": 0
            },
            "text/plain": [
              "HBox(children=(IntProgress(value=0, max=391), HTML(value='')))"
            ]
          },
          "metadata": {
            "tags": []
          }
        },
        {
          "output_type": "stream",
          "text": [
            "\n",
            "[Epoch: 72/100] Training Loss: 101.4718 = Reconstruction Error (75.7934) + KL Divergence(25.6783)\n",
            "[Epoch: 72/100] Validation Loss: 102.7698 = Reconstruction Error (77.1225) + KL Divergence(25.6473)\n"
          ],
          "name": "stdout"
        },
        {
          "output_type": "display_data",
          "data": {
            "application/vnd.jupyter.widget-view+json": {
              "model_id": "1cd7d65b54324195adc57a3573acbee7",
              "version_major": 2,
              "version_minor": 0
            },
            "text/plain": [
              "HBox(children=(IntProgress(value=0, max=391), HTML(value='')))"
            ]
          },
          "metadata": {
            "tags": []
          }
        },
        {
          "output_type": "stream",
          "text": [
            "\n",
            "[Epoch: 73/100] Training Loss: 101.5003 = Reconstruction Error (76.4779) + KL Divergence(25.0224)\n",
            "[Epoch: 73/100] Validation Loss: 102.9570 = Reconstruction Error (77.9588) + KL Divergence(24.9982)\n"
          ],
          "name": "stdout"
        },
        {
          "output_type": "display_data",
          "data": {
            "application/vnd.jupyter.widget-view+json": {
              "model_id": "d177b1410d7546408d226852f79083a5",
              "version_major": 2,
              "version_minor": 0
            },
            "text/plain": [
              "HBox(children=(IntProgress(value=0, max=391), HTML(value='')))"
            ]
          },
          "metadata": {
            "tags": []
          }
        },
        {
          "output_type": "stream",
          "text": [
            "\n",
            "[Epoch: 74/100] Training Loss: 101.2280 = Reconstruction Error (75.7935) + KL Divergence(25.4345)\n",
            "[Epoch: 74/100] Validation Loss: 102.5859 = Reconstruction Error (77.1765) + KL Divergence(25.4094)\n"
          ],
          "name": "stdout"
        },
        {
          "output_type": "display_data",
          "data": {
            "application/vnd.jupyter.widget-view+json": {
              "model_id": "c389f5cb7ef145b498ace3dffe53f049",
              "version_major": 2,
              "version_minor": 0
            },
            "text/plain": [
              "HBox(children=(IntProgress(value=0, max=391), HTML(value='')))"
            ]
          },
          "metadata": {
            "tags": []
          }
        },
        {
          "output_type": "stream",
          "text": [
            "\n",
            "[Epoch: 75/100] Training Loss: 101.1582 = Reconstruction Error (75.8126) + KL Divergence(25.3457)\n",
            "[Epoch: 75/100] Validation Loss: 102.5969 = Reconstruction Error (77.2825) + KL Divergence(25.3143)\n"
          ],
          "name": "stdout"
        },
        {
          "output_type": "display_data",
          "data": {
            "application/vnd.jupyter.widget-view+json": {
              "model_id": "5adb0e7fa65b4f35afe4888c2290d112",
              "version_major": 2,
              "version_minor": 0
            },
            "text/plain": [
              "HBox(children=(IntProgress(value=0, max=391), HTML(value='')))"
            ]
          },
          "metadata": {
            "tags": []
          }
        },
        {
          "output_type": "stream",
          "text": [
            "\n",
            "[Epoch: 76/100] Training Loss: 101.3572 = Reconstruction Error (76.1190) + KL Divergence(25.2382)\n",
            "[Epoch: 76/100] Validation Loss: 102.6941 = Reconstruction Error (77.4861) + KL Divergence(25.2080)\n"
          ],
          "name": "stdout"
        },
        {
          "output_type": "display_data",
          "data": {
            "application/vnd.jupyter.widget-view+json": {
              "model_id": "11aeec53b46347f8ba47ccf6ff895dda",
              "version_major": 2,
              "version_minor": 0
            },
            "text/plain": [
              "HBox(children=(IntProgress(value=0, max=391), HTML(value='')))"
            ]
          },
          "metadata": {
            "tags": []
          }
        },
        {
          "output_type": "stream",
          "text": [
            "\n",
            "[Epoch: 77/100] Training Loss: 101.2165 = Reconstruction Error (75.8009) + KL Divergence(25.4156)\n",
            "[Epoch: 77/100] Validation Loss: 102.6024 = Reconstruction Error (77.2042) + KL Divergence(25.3983)\n"
          ],
          "name": "stdout"
        },
        {
          "output_type": "display_data",
          "data": {
            "application/vnd.jupyter.widget-view+json": {
              "model_id": "697252477ca64f89a9f238630809b1c1",
              "version_major": 2,
              "version_minor": 0
            },
            "text/plain": [
              "HBox(children=(IntProgress(value=0, max=391), HTML(value='')))"
            ]
          },
          "metadata": {
            "tags": []
          }
        },
        {
          "output_type": "stream",
          "text": [
            "\n",
            "[Epoch: 78/100] Training Loss: 101.3201 = Reconstruction Error (76.0668) + KL Divergence(25.2532)\n",
            "[Epoch: 78/100] Validation Loss: 102.6672 = Reconstruction Error (77.4460) + KL Divergence(25.2211)\n"
          ],
          "name": "stdout"
        },
        {
          "output_type": "display_data",
          "data": {
            "application/vnd.jupyter.widget-view+json": {
              "model_id": "5f21dbc828824dae95b0052cdfd6e520",
              "version_major": 2,
              "version_minor": 0
            },
            "text/plain": [
              "HBox(children=(IntProgress(value=0, max=391), HTML(value='')))"
            ]
          },
          "metadata": {
            "tags": []
          }
        },
        {
          "output_type": "stream",
          "text": [
            "\n",
            "[Epoch: 79/100] Training Loss: 101.2822 = Reconstruction Error (76.1195) + KL Divergence(25.1627)\n",
            "[Epoch: 79/100] Validation Loss: 102.7051 = Reconstruction Error (77.5674) + KL Divergence(25.1377)\n"
          ],
          "name": "stdout"
        },
        {
          "output_type": "display_data",
          "data": {
            "application/vnd.jupyter.widget-view+json": {
              "model_id": "8d06919306e441cf9a51190555416ec6",
              "version_major": 2,
              "version_minor": 0
            },
            "text/plain": [
              "HBox(children=(IntProgress(value=0, max=391), HTML(value='')))"
            ]
          },
          "metadata": {
            "tags": []
          }
        },
        {
          "output_type": "stream",
          "text": [
            "\n",
            "[Epoch: 80/100] Training Loss: 101.0009 = Reconstruction Error (75.2735) + KL Divergence(25.7274)\n",
            "[Epoch: 80/100] Validation Loss: 102.4310 = Reconstruction Error (76.7268) + KL Divergence(25.7042)\n"
          ],
          "name": "stdout"
        },
        {
          "output_type": "display_data",
          "data": {
            "application/vnd.jupyter.widget-view+json": {
              "model_id": "8950dc3666984f7d99910093aa0dfe0a",
              "version_major": 2,
              "version_minor": 0
            },
            "text/plain": [
              "HBox(children=(IntProgress(value=0, max=391), HTML(value='')))"
            ]
          },
          "metadata": {
            "tags": []
          }
        },
        {
          "output_type": "stream",
          "text": [
            "\n",
            "[Epoch: 81/100] Training Loss: 101.2650 = Reconstruction Error (75.8595) + KL Divergence(25.4056)\n",
            "[Epoch: 81/100] Validation Loss: 102.7024 = Reconstruction Error (77.3237) + KL Divergence(25.3787)\n"
          ],
          "name": "stdout"
        },
        {
          "output_type": "display_data",
          "data": {
            "application/vnd.jupyter.widget-view+json": {
              "model_id": "81e94f417759468eb41722c1a964cf04",
              "version_major": 2,
              "version_minor": 0
            },
            "text/plain": [
              "HBox(children=(IntProgress(value=0, max=391), HTML(value='')))"
            ]
          },
          "metadata": {
            "tags": []
          }
        },
        {
          "output_type": "stream",
          "text": [
            "\n",
            "[Epoch: 82/100] Training Loss: 101.3987 = Reconstruction Error (76.0525) + KL Divergence(25.3462)\n",
            "[Epoch: 82/100] Validation Loss: 102.8721 = Reconstruction Error (77.5555) + KL Divergence(25.3167)\n"
          ],
          "name": "stdout"
        },
        {
          "output_type": "display_data",
          "data": {
            "application/vnd.jupyter.widget-view+json": {
              "model_id": "d8678e3ec69645cda0b3c7e5195350b9",
              "version_major": 2,
              "version_minor": 0
            },
            "text/plain": [
              "HBox(children=(IntProgress(value=0, max=391), HTML(value='')))"
            ]
          },
          "metadata": {
            "tags": []
          }
        },
        {
          "output_type": "stream",
          "text": [
            "\n",
            "[Epoch: 83/100] Training Loss: 101.0830 = Reconstruction Error (75.8225) + KL Divergence(25.2605)\n",
            "[Epoch: 83/100] Validation Loss: 102.3937 = Reconstruction Error (77.1645) + KL Divergence(25.2292)\n"
          ],
          "name": "stdout"
        },
        {
          "output_type": "display_data",
          "data": {
            "application/vnd.jupyter.widget-view+json": {
              "model_id": "714a9fc51a304121b80f909e863b28b3",
              "version_major": 2,
              "version_minor": 0
            },
            "text/plain": [
              "HBox(children=(IntProgress(value=0, max=391), HTML(value='')))"
            ]
          },
          "metadata": {
            "tags": []
          }
        },
        {
          "output_type": "stream",
          "text": [
            "\n",
            "[Epoch: 84/100] Training Loss: 101.4206 = Reconstruction Error (76.3085) + KL Divergence(25.1121)\n",
            "[Epoch: 84/100] Validation Loss: 102.8026 = Reconstruction Error (77.7069) + KL Divergence(25.0957)\n"
          ],
          "name": "stdout"
        },
        {
          "output_type": "display_data",
          "data": {
            "application/vnd.jupyter.widget-view+json": {
              "model_id": "eb74754ce07043dd9e14abebf8fda243",
              "version_major": 2,
              "version_minor": 0
            },
            "text/plain": [
              "HBox(children=(IntProgress(value=0, max=391), HTML(value='')))"
            ]
          },
          "metadata": {
            "tags": []
          }
        },
        {
          "output_type": "stream",
          "text": [
            "\n",
            "[Epoch: 85/100] Training Loss: 101.0764 = Reconstruction Error (76.3267) + KL Divergence(24.7497)\n",
            "[Epoch: 85/100] Validation Loss: 102.4877 = Reconstruction Error (77.7556) + KL Divergence(24.7320)\n"
          ],
          "name": "stdout"
        },
        {
          "output_type": "display_data",
          "data": {
            "application/vnd.jupyter.widget-view+json": {
              "model_id": "649256a3ad2b4dbf81036356cc534747",
              "version_major": 2,
              "version_minor": 0
            },
            "text/plain": [
              "HBox(children=(IntProgress(value=0, max=391), HTML(value='')))"
            ]
          },
          "metadata": {
            "tags": []
          }
        },
        {
          "output_type": "stream",
          "text": [
            "\n",
            "[Epoch: 86/100] Training Loss: 101.2257 = Reconstruction Error (75.8368) + KL Divergence(25.3889)\n",
            "[Epoch: 86/100] Validation Loss: 102.6414 = Reconstruction Error (77.2837) + KL Divergence(25.3577)\n"
          ],
          "name": "stdout"
        },
        {
          "output_type": "display_data",
          "data": {
            "application/vnd.jupyter.widget-view+json": {
              "model_id": "c9cbec94171c4ed0ac943d352cdedf2a",
              "version_major": 2,
              "version_minor": 0
            },
            "text/plain": [
              "HBox(children=(IntProgress(value=0, max=391), HTML(value='')))"
            ]
          },
          "metadata": {
            "tags": []
          }
        },
        {
          "output_type": "stream",
          "text": [
            "\n",
            "[Epoch: 87/100] Training Loss: 101.0925 = Reconstruction Error (76.1908) + KL Divergence(24.9018)\n",
            "[Epoch: 87/100] Validation Loss: 102.5950 = Reconstruction Error (77.7143) + KL Divergence(24.8808)\n"
          ],
          "name": "stdout"
        },
        {
          "output_type": "display_data",
          "data": {
            "application/vnd.jupyter.widget-view+json": {
              "model_id": "9f3c133c10ff44f2868bf86571dd7ccd",
              "version_major": 2,
              "version_minor": 0
            },
            "text/plain": [
              "HBox(children=(IntProgress(value=0, max=391), HTML(value='')))"
            ]
          },
          "metadata": {
            "tags": []
          }
        },
        {
          "output_type": "stream",
          "text": [
            "\n",
            "[Epoch: 88/100] Training Loss: 100.8903 = Reconstruction Error (75.4021) + KL Divergence(25.4881)\n",
            "[Epoch: 88/100] Validation Loss: 102.3922 = Reconstruction Error (76.9372) + KL Divergence(25.4550)\n"
          ],
          "name": "stdout"
        },
        {
          "output_type": "display_data",
          "data": {
            "application/vnd.jupyter.widget-view+json": {
              "model_id": "ddb6c75c414a45b48b117f759a283cdb",
              "version_major": 2,
              "version_minor": 0
            },
            "text/plain": [
              "HBox(children=(IntProgress(value=0, max=391), HTML(value='')))"
            ]
          },
          "metadata": {
            "tags": []
          }
        },
        {
          "output_type": "stream",
          "text": [
            "\n",
            "[Epoch: 89/100] Training Loss: 101.0905 = Reconstruction Error (75.5169) + KL Divergence(25.5736)\n",
            "[Epoch: 89/100] Validation Loss: 102.4702 = Reconstruction Error (76.9237) + KL Divergence(25.5465)\n"
          ],
          "name": "stdout"
        },
        {
          "output_type": "display_data",
          "data": {
            "application/vnd.jupyter.widget-view+json": {
              "model_id": "335887ce9f3a46fe9143b0a8d32490b6",
              "version_major": 2,
              "version_minor": 0
            },
            "text/plain": [
              "HBox(children=(IntProgress(value=0, max=391), HTML(value='')))"
            ]
          },
          "metadata": {
            "tags": []
          }
        },
        {
          "output_type": "stream",
          "text": [
            "\n",
            "[Epoch: 90/100] Training Loss: 100.9098 = Reconstruction Error (75.3790) + KL Divergence(25.5308)\n",
            "[Epoch: 90/100] Validation Loss: 102.3650 = Reconstruction Error (76.8559) + KL Divergence(25.5091)\n"
          ],
          "name": "stdout"
        },
        {
          "output_type": "display_data",
          "data": {
            "application/vnd.jupyter.widget-view+json": {
              "model_id": "20bc32caf2654c92b4d057a16bbeefbe",
              "version_major": 2,
              "version_minor": 0
            },
            "text/plain": [
              "HBox(children=(IntProgress(value=0, max=391), HTML(value='')))"
            ]
          },
          "metadata": {
            "tags": []
          }
        },
        {
          "output_type": "stream",
          "text": [
            "\n",
            "[Epoch: 91/100] Training Loss: 100.9492 = Reconstruction Error (75.2009) + KL Divergence(25.7482)\n",
            "[Epoch: 91/100] Validation Loss: 102.4020 = Reconstruction Error (76.6758) + KL Divergence(25.7263)\n"
          ],
          "name": "stdout"
        },
        {
          "output_type": "display_data",
          "data": {
            "application/vnd.jupyter.widget-view+json": {
              "model_id": "a7210cf6bff240bc811c5b037979776a",
              "version_major": 2,
              "version_minor": 0
            },
            "text/plain": [
              "HBox(children=(IntProgress(value=0, max=391), HTML(value='')))"
            ]
          },
          "metadata": {
            "tags": []
          }
        },
        {
          "output_type": "stream",
          "text": [
            "\n",
            "[Epoch: 92/100] Training Loss: 100.8005 = Reconstruction Error (75.2205) + KL Divergence(25.5800)\n",
            "[Epoch: 92/100] Validation Loss: 102.2072 = Reconstruction Error (76.6513) + KL Divergence(25.5559)\n"
          ],
          "name": "stdout"
        },
        {
          "output_type": "display_data",
          "data": {
            "application/vnd.jupyter.widget-view+json": {
              "model_id": "75c9f46b8d064ca3a90976e8f36702af",
              "version_major": 2,
              "version_minor": 0
            },
            "text/plain": [
              "HBox(children=(IntProgress(value=0, max=391), HTML(value='')))"
            ]
          },
          "metadata": {
            "tags": []
          }
        },
        {
          "output_type": "stream",
          "text": [
            "\n",
            "[Epoch: 93/100] Training Loss: 100.8291 = Reconstruction Error (75.6384) + KL Divergence(25.1907)\n",
            "[Epoch: 93/100] Validation Loss: 102.3153 = Reconstruction Error (77.1506) + KL Divergence(25.1647)\n"
          ],
          "name": "stdout"
        },
        {
          "output_type": "display_data",
          "data": {
            "application/vnd.jupyter.widget-view+json": {
              "model_id": "41ee88f1d118417eb3098d40e6dd3749",
              "version_major": 2,
              "version_minor": 0
            },
            "text/plain": [
              "HBox(children=(IntProgress(value=0, max=391), HTML(value='')))"
            ]
          },
          "metadata": {
            "tags": []
          }
        },
        {
          "output_type": "stream",
          "text": [
            "\n",
            "[Epoch: 94/100] Training Loss: 100.8975 = Reconstruction Error (75.3560) + KL Divergence(25.5415)\n",
            "[Epoch: 94/100] Validation Loss: 102.2905 = Reconstruction Error (76.7728) + KL Divergence(25.5177)\n"
          ],
          "name": "stdout"
        },
        {
          "output_type": "display_data",
          "data": {
            "application/vnd.jupyter.widget-view+json": {
              "model_id": "ce2b3d62f49945ffb9a9fa0aea26b375",
              "version_major": 2,
              "version_minor": 0
            },
            "text/plain": [
              "HBox(children=(IntProgress(value=0, max=391), HTML(value='')))"
            ]
          },
          "metadata": {
            "tags": []
          }
        },
        {
          "output_type": "stream",
          "text": [
            "\n",
            "[Epoch: 95/100] Training Loss: 100.7170 = Reconstruction Error (75.2441) + KL Divergence(25.4729)\n",
            "[Epoch: 95/100] Validation Loss: 102.2103 = Reconstruction Error (76.7643) + KL Divergence(25.4461)\n"
          ],
          "name": "stdout"
        },
        {
          "output_type": "display_data",
          "data": {
            "application/vnd.jupyter.widget-view+json": {
              "model_id": "f71480f533ba4de1a274e7a9f67b5aae",
              "version_major": 2,
              "version_minor": 0
            },
            "text/plain": [
              "HBox(children=(IntProgress(value=0, max=391), HTML(value='')))"
            ]
          },
          "metadata": {
            "tags": []
          }
        },
        {
          "output_type": "stream",
          "text": [
            "\n",
            "[Epoch: 96/100] Training Loss: 100.7166 = Reconstruction Error (75.4933) + KL Divergence(25.2233)\n",
            "[Epoch: 96/100] Validation Loss: 102.2079 = Reconstruction Error (77.0120) + KL Divergence(25.1959)\n"
          ],
          "name": "stdout"
        },
        {
          "output_type": "display_data",
          "data": {
            "application/vnd.jupyter.widget-view+json": {
              "model_id": "523aa2afc80e48a694212847d7b2e46d",
              "version_major": 2,
              "version_minor": 0
            },
            "text/plain": [
              "HBox(children=(IntProgress(value=0, max=391), HTML(value='')))"
            ]
          },
          "metadata": {
            "tags": []
          }
        },
        {
          "output_type": "stream",
          "text": [
            "\n",
            "[Epoch: 97/100] Training Loss: 100.8660 = Reconstruction Error (75.2630) + KL Divergence(25.6030)\n",
            "[Epoch: 97/100] Validation Loss: 102.3285 = Reconstruction Error (76.7559) + KL Divergence(25.5727)\n"
          ],
          "name": "stdout"
        },
        {
          "output_type": "display_data",
          "data": {
            "application/vnd.jupyter.widget-view+json": {
              "model_id": "0c7861b54ec04ab9993eacb9e79518ba",
              "version_major": 2,
              "version_minor": 0
            },
            "text/plain": [
              "HBox(children=(IntProgress(value=0, max=391), HTML(value='')))"
            ]
          },
          "metadata": {
            "tags": []
          }
        },
        {
          "output_type": "stream",
          "text": [
            "\n",
            "[Epoch: 98/100] Training Loss: 100.6962 = Reconstruction Error (75.1138) + KL Divergence(25.5824)\n",
            "[Epoch: 98/100] Validation Loss: 102.2332 = Reconstruction Error (76.6791) + KL Divergence(25.5541)\n"
          ],
          "name": "stdout"
        },
        {
          "output_type": "display_data",
          "data": {
            "application/vnd.jupyter.widget-view+json": {
              "model_id": "5d128e5822ed452bbbf01d171d2e65eb",
              "version_major": 2,
              "version_minor": 0
            },
            "text/plain": [
              "HBox(children=(IntProgress(value=0, max=391), HTML(value='')))"
            ]
          },
          "metadata": {
            "tags": []
          }
        },
        {
          "output_type": "stream",
          "text": [
            "\n",
            "[Epoch: 99/100] Training Loss: 100.7321 = Reconstruction Error (75.6140) + KL Divergence(25.1181)\n",
            "[Epoch: 99/100] Validation Loss: 102.1832 = Reconstruction Error (77.0964) + KL Divergence(25.0868)\n"
          ],
          "name": "stdout"
        },
        {
          "output_type": "display_data",
          "data": {
            "application/vnd.jupyter.widget-view+json": {
              "model_id": "e891de43b29946aa9bb1a8a7a7a32b01",
              "version_major": 2,
              "version_minor": 0
            },
            "text/plain": [
              "HBox(children=(IntProgress(value=0, max=391), HTML(value='')))"
            ]
          },
          "metadata": {
            "tags": []
          }
        },
        {
          "output_type": "stream",
          "text": [
            "\n",
            "[Epoch: 100/100] Training Loss: 100.8088 = Reconstruction Error (75.1242) + KL Divergence(25.6846)\n",
            "[Epoch: 100/100] Validation Loss: 102.3086 = Reconstruction Error (76.6586) + KL Divergence(25.6501)\n"
          ],
          "name": "stdout"
        }
      ]
    },
    {
      "cell_type": "code",
      "metadata": {
        "colab_type": "code",
        "id": "PJ-KIkkdPbz6",
        "colab": {}
      },
      "source": [
        "decoder = model.decoder"
      ],
      "execution_count": 0,
      "outputs": []
    },
    {
      "cell_type": "code",
      "metadata": {
        "colab_type": "code",
        "id": "9f1IwwycPixb",
        "outputId": "81611a10-0f43-4375-ace3-d6637c7da39f",
        "colab": {
          "base_uri": "https://localhost:8080/",
          "height": 473
        }
      },
      "source": [
        "with torch.no_grad():\n",
        "    decoder.eval()\n",
        "    z = torch.randn(64, 20).to(device)\n",
        "    x_recon = decoder(z).cpu()\n",
        "show_mnist(x_recon)"
      ],
      "execution_count": 0,
      "outputs": [
        {
          "output_type": "display_data",
          "data": {
            "image/png": "[encoded data removed]",
            "text/plain": [
              "<Figure size 576x576 with 1 Axes>"
            ]
          },
          "metadata": {
            "tags": []
          }
        }
      ]
    },
    {
      "cell_type": "code",
      "metadata": {
        "id": "NTGBMCF898Rq",
        "colab_type": "code",
        "colab": {}
      },
      "source": [
        ""
      ],
      "execution_count": 0,
      "outputs": []
    },
    {
      "cell_type": "code",
      "metadata": {
        "id": "vLUt5ZOg98Vx",
        "colab_type": "code",
        "colab": {}
      },
      "source": [
        ""
      ],
      "execution_count": 0,
      "outputs": []
    },
    {
      "cell_type": "code",
      "metadata": {
        "id": "zaV_wIC898Y0",
        "colab_type": "code",
        "colab": {}
      },
      "source": [
        ""
      ],
      "execution_count": 0,
      "outputs": []
    },
    {
      "cell_type": "code",
      "metadata": {
        "id": "-ZPiVH0j98b1",
        "colab_type": "code",
        "colab": {}
      },
      "source": [
        ""
      ],
      "execution_count": 0,
      "outputs": []
    },
    {
      "cell_type": "code",
      "metadata": {
        "id": "a_3XnUtx98eu",
        "colab_type": "code",
        "colab": {}
      },
      "source": [
        ""
      ],
      "execution_count": 0,
      "outputs": []
    },
    {
      "cell_type": "markdown",
      "metadata": {
        "id": "QscR5cPB98n5",
        "colab_type": "text"
      },
      "source": [
        "# Anomalous Data"
      ]
    },
    {
      "cell_type": "code",
      "metadata": {
        "id": "d52AdB6G9_eZ",
        "colab_type": "code",
        "colab": {}
      },
      "source": [
        "fashion_test = FashionMNIST(datasets_root, train=False, download=True, transform=transform)\n",
        "\n",
        "emnist_transform = transforms.Compose([\n",
        "    lambda each: transforms.functional.rotate(each, -90),\n",
        "    transforms.functional.hflip,\n",
        "    transforms.ToTensor()\n",
        "])\n",
        "\n",
        "try:\n",
        "    letters_test = EMNIST(\n",
        "        datasets_root,\n",
        "        split='letters',\n",
        "        train=False,\n",
        "        download=True,\n",
        "        transform=emnist_transform)\n",
        "except HTTPError:\n",
        "    class UpdatedEMNIST(torchvision.datasets.EMNIST):\n",
        "        url = 'http://www.itl.nist.gov/iaui/vip/cs_links/EMNIST/gzip.zip'\n",
        "        splits = ('byclass', 'bymerge', 'balanced', 'letters', 'digits', 'mnist')\n",
        "    \n",
        "    letters_test = UpdatedEMNIST(\n",
        "        datasets_root,\n",
        "        split='letters',\n",
        "        train=False,\n",
        "        download=True,\n",
        "        transform=emnist_transform)\n",
        "    \n",
        "print(f'Fashion-MNIST Test: {len(fashion_test)}')\n",
        "print(f'EMNIST/letters Test: {len(letters_test)}')\n",
        "\n",
        "show_mnist(fashion_test)\n",
        "show_mnist(letters_test)\n",
        "\n",
        "fashion_loader = DataLoader(fashion_test, batch_size=test_batch_size, shuffle=True)\n",
        "letters_loader = DataLoader(letters_test, batch_size=test_batch_size, shuffle=True)"
      ],
      "execution_count": 0,
      "outputs": []
    },
    {
      "cell_type": "code",
      "metadata": {
        "id": "ZjkqG6VD9_hr",
        "colab_type": "code",
        "colab": {}
      },
      "source": [
        ""
      ],
      "execution_count": 0,
      "outputs": []
    },
    {
      "cell_type": "code",
      "metadata": {
        "id": "Iwef_RWZ9_kv",
        "colab_type": "code",
        "colab": {}
      },
      "source": [
        ""
      ],
      "execution_count": 0,
      "outputs": []
    },
    {
      "cell_type": "code",
      "metadata": {
        "id": "R9xrSLOY9_nH",
        "colab_type": "code",
        "colab": {}
      },
      "source": [
        ""
      ],
      "execution_count": 0,
      "outputs": []
    },
    {
      "cell_type": "code",
      "metadata": {
        "id": "ydyYnTnw9_pl",
        "colab_type": "code",
        "colab": {}
      },
      "source": [
        ""
      ],
      "execution_count": 0,
      "outputs": []
    },
    {
      "cell_type": "code",
      "metadata": {
        "id": "NP20Fq7S9_si",
        "colab_type": "code",
        "colab": {}
      },
      "source": [
        ""
      ],
      "execution_count": 0,
      "outputs": []
    },
    {
      "cell_type": "code",
      "metadata": {
        "id": "w5GQTJIi9_vf",
        "colab_type": "code",
        "colab": {}
      },
      "source": [
        ""
      ],
      "execution_count": 0,
      "outputs": []
    },
    {
      "cell_type": "code",
      "metadata": {
        "id": "xLK7FNNk9_yQ",
        "colab_type": "code",
        "colab": {}
      },
      "source": [
        ""
      ],
      "execution_count": 0,
      "outputs": []
    },
    {
      "cell_type": "code",
      "metadata": {
        "id": "lmSZab7g9_0-",
        "colab_type": "code",
        "colab": {}
      },
      "source": [
        ""
      ],
      "execution_count": 0,
      "outputs": []
    },
    {
      "cell_type": "code",
      "metadata": {
        "colab_type": "code",
        "id": "aQCMRlqmTIGv",
        "colab": {}
      },
      "source": [
        "def get_reconstruction_error(model, data_loader, device):\n",
        "    errors= []\n",
        "\n",
        "    with torch.no_grad():\n",
        "        model.eval()\n",
        "        for x, _ in data_loader:\n",
        "            x = x.to(device)\n",
        "            x_reco, _, _ = model(x)\n",
        "            error_batch = reconstruction_error(x_reco, x, reduction='none').mean(dim=1)\n",
        "            error_batch = error_batch.cpu().numpy()\n",
        "            \n",
        "            errors.append(error_batch)\n",
        "    return np.concatenate(errors)"
      ],
      "execution_count": 0,
      "outputs": []
    },
    {
      "cell_type": "code",
      "metadata": {
        "colab_type": "code",
        "id": "2Ot5LTVdZb7x",
        "colab": {}
      },
      "source": [
        ""
      ],
      "execution_count": 0,
      "outputs": []
    },
    {
      "cell_type": "code",
      "metadata": {
        "colab_type": "code",
        "id": "8pHjyBIjVA3x",
        "outputId": "95bf3801-9aad-47c0-813d-1f33d59d5a38",
        "colab": {
          "base_uri": "https://localhost:8080/",
          "height": 70
        }
      },
      "source": [
        "mnist_reco_error = get_reconstruction_error(model, test_loader, device)\n",
        "fashion_reco_error = get_reconstruction_error(model, fashion_loader, device)\n",
        "letters_reco_error = get_reconstruction_error(model, letters_loader, device)"
      ],
      "execution_count": 0,
      "outputs": [
        {
          "output_type": "display_data",
          "data": {
            "application/vnd.jupyter.widget-view+json": {
              "model_id": "ad49060c0b994811abda7a72f60b9042",
              "version_major": 2,
              "version_minor": 0
            },
            "text/plain": [
              "HBox(children=(IntProgress(value=0, max=20), HTML(value='')))"
            ]
          },
          "metadata": {
            "tags": []
          }
        },
        {
          "output_type": "stream",
          "text": [
            "\n"
          ],
          "name": "stdout"
        },
        {
          "output_type": "display_data",
          "data": {
            "application/vnd.jupyter.widget-view+json": {
              "model_id": "1612dc53c5914161969025012a51c07d",
              "version_major": 2,
              "version_minor": 0
            },
            "text/plain": [
              "HBox(children=(IntProgress(value=0, max=20), HTML(value='')))"
            ]
          },
          "metadata": {
            "tags": []
          }
        },
        {
          "output_type": "stream",
          "text": [
            "\n"
          ],
          "name": "stdout"
        },
        {
          "output_type": "display_data",
          "data": {
            "application/vnd.jupyter.widget-view+json": {
              "model_id": "55b9afcade4441bab411124577d596b7",
              "version_major": 2,
              "version_minor": 0
            },
            "text/plain": [
              "HBox(children=(IntProgress(value=0, max=41), HTML(value='')))"
            ]
          },
          "metadata": {
            "tags": []
          }
        },
        {
          "output_type": "stream",
          "text": [
            "\n"
          ],
          "name": "stdout"
        }
      ]
    },
    {
      "cell_type": "code",
      "metadata": {
        "colab_type": "code",
        "id": "kOdHZ47pVKo-",
        "outputId": "7c235a30-74f8-4e51-f6b2-d589b0dd3b71",
        "colab": {
          "base_uri": "https://localhost:8080/",
          "height": 504
        }
      },
      "source": [
        "min_error = min([min(each) for  each in [mnist_reco_error, fashion_reco_error, letters_reco_error]])\n",
        "max_error = max([max(each) for  each in [mnist_reco_error, fashion_reco_error, letters_reco_error]])\n",
        "\n",
        "hist_kwargs  = {\n",
        "    'alpha': 0.5,\n",
        "    'range': (min_error, max_error),\n",
        "    'bins': 100,\n",
        "    'density': True\n",
        "}\n",
        "\n",
        "fig, ax = plt.subplots(figsize=(12, 8))\n",
        "_ = ax.hist(mnist_reco_error, label='MNIST', **hist_kwargs)\n",
        "_ = ax.hist(fashion_reco_error, label='Fashion-MNIST', **hist_kwargs)\n",
        "_ = ax.hist(letters_reco_error, label='EMNIST/letters', **hist_kwargs)\n",
        "ax.legend(fontsize=20)"
      ],
      "execution_count": 0,
      "outputs": [
        {
          "output_type": "execute_result",
          "data": {
            "text/plain": [
              "<matplotlib.legend.Legend at 0x7f4a83676748>"
            ]
          },
          "metadata": {
            "tags": []
          },
          "execution_count": 126
        },
        {
          "output_type": "display_data",
          "data": {
            "image/png": "[encoded data removed]",
            "text/plain": [
              "<Figure size 864x576 with 1 Axes>"
            ]
          },
          "metadata": {
            "tags": []
          }
        }
      ]
    },
    {
      "cell_type": "code",
      "metadata": {
        "colab_type": "code",
        "id": "RtS4fq-XVw7F",
        "colab": {}
      },
      "source": [
        ""
      ],
      "execution_count": 0,
      "outputs": []
    }
  ]
}